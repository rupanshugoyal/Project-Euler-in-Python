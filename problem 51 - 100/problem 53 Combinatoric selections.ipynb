{
 "cells": [
  {
   "cell_type": "code",
   "execution_count": null,
   "metadata": {
    "collapsed": true
   },
   "outputs": [],
   "source": [
    "# Problem 53 There are exactly ten ways of selecting three from five, 12345:\n",
    "\n",
    "#            123, 124, 125, 134, 135, 145, 234, 235, 245, and 345\n",
    "\n",
    "#In combinatorics, we use the notation, 5C3 = 10.\n",
    "\n",
    "#In general,\n",
    "\n",
    "#        nCr =     n!\n",
    "#               r!(n−r)!\n",
    "#,where r ≤ n, n! = n×(n−1)×...×3×2×1, and 0! = 1.\n",
    "#It is not until n = 23, that a value exceeds one-million: 23C10 = 1144066.\n",
    "\n",
    "#How many, not necessarily distinct, values of  nCr, for 1 ≤ n ≤ 100, are greater than one-million?"
   ]
  },
  {
   "cell_type": "code",
   "execution_count": 3,
   "metadata": {
    "collapsed": false
   },
   "outputs": [],
   "source": [
    "factlist = {}\n",
    "factlist[0] = 1\n",
    "for i in range(1, 101):\n",
    "    factlist[i] = 1\n",
    "    for j in range(i , 1 , -1):\n",
    "        factlist[i] *= j"
   ]
  },
  {
   "cell_type": "code",
   "execution_count": 4,
   "metadata": {
    "collapsed": false
   },
   "outputs": [
    {
     "name": "stdout",
     "output_type": "stream",
     "text": [
      "4075\n"
     ]
    }
   ],
   "source": [
    "anslist = []\n",
    "for i in range(1,101):\n",
    "    for j in range(1, i):\n",
    "        value = factlist[i] / (factlist[j]*factlist[i-j])\n",
    "        if(value > 1000000):\n",
    "            anslist.append(value)\n",
    "print(len(anslist))"
   ]
  },
  {
   "cell_type": "code",
   "execution_count": null,
   "metadata": {
    "collapsed": true
   },
   "outputs": [],
   "source": []
  }
 ],
 "metadata": {
  "kernelspec": {
   "display_name": "Python 3",
   "language": "python",
   "name": "python3"
  },
  "language_info": {
   "codemirror_mode": {
    "name": "ipython",
    "version": 3
   },
   "file_extension": ".py",
   "mimetype": "text/x-python",
   "name": "python",
   "nbconvert_exporter": "python",
   "pygments_lexer": "ipython3",
   "version": "3.6.0"
  }
 },
 "nbformat": 4,
 "nbformat_minor": 2
}

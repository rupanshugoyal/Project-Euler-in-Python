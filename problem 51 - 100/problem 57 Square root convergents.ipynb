{
 "cells": [
  {
   "cell_type": "code",
   "execution_count": null,
   "metadata": {
    "collapsed": true
   },
   "outputs": [],
   "source": [
    "#problem 57 It is possible to show that the square root of two can be expressed as an infinite continued fraction.\n",
    "\n",
    "#                √ 2 = 1 + 1/(2 + 1/(2 + 1/(2 + ... ))) = 1.414213...\n",
    "\n",
    "#By expanding this for the first four iterations, we get:\n",
    "\n",
    "#        1 + 1/2 = 3/2 = 1.5\n",
    "#        1 + 1/(2 + 1/2) = 7/5 = 1.4\n",
    "#        1 + 1/(2 + 1/(2 + 1/2)) = 17/12 = 1.41666...\n",
    "#        1 + 1/(2 + 1/(2 + 1/(2 + 1/2))) = 41/29 = 1.41379...\n",
    "\n",
    "#The next three expansions are 99/70, 239/169, and 577/408, but the eighth expansion, 1393/985, is the first example where the number of digits in the numerator exceeds the number of digits in the denominator.\n",
    "\n",
    "#In the first one-thousand expansions, how many fractions contain a numerator with more digits than denominator?"
   ]
  },
  {
   "cell_type": "code",
   "execution_count": 2,
   "metadata": {
    "collapsed": false
   },
   "outputs": [],
   "source": [
    "def checkcondition(T):\n",
    "    if(len(str(T[0])) > len(str(T[1]))):\n",
    "        return True\n",
    "    else:\n",
    "        return False\n"
   ]
  },
  {
   "cell_type": "code",
   "execution_count": 5,
   "metadata": {
    "collapsed": false
   },
   "outputs": [
    {
     "name": "stdout",
     "output_type": "stream",
     "text": [
      "153\n"
     ]
    }
   ],
   "source": [
    "start = (3,2)\n",
    "reqdcount = 0\n",
    "intresult = start\n",
    "for i in range(1,1000):\n",
    "    intresult =  (intresult[0]+intresult[1], intresult[1]) #add 1 to fraction\n",
    "    intresult = (intresult[1] , intresult[0]) #swap the values\n",
    "    intresult =  (intresult[0]+intresult[1], intresult[1]) #add 1 again to the fraction\n",
    "    if(checkcondition(intresult)):\n",
    "        reqdcount += 1\n",
    "print(reqdcount)\n",
    "    "
   ]
  },
  {
   "cell_type": "code",
   "execution_count": null,
   "metadata": {
    "collapsed": true
   },
   "outputs": [],
   "source": []
  }
 ],
 "metadata": {
  "kernelspec": {
   "display_name": "Python 3",
   "language": "python",
   "name": "python3"
  },
  "language_info": {
   "codemirror_mode": {
    "name": "ipython",
    "version": 3
   },
   "file_extension": ".py",
   "mimetype": "text/x-python",
   "name": "python",
   "nbconvert_exporter": "python",
   "pygments_lexer": "ipython3",
   "version": "3.6.0"
  }
 },
 "nbformat": 4,
 "nbformat_minor": 2
}

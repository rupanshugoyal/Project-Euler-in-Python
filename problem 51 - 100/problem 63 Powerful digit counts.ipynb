{
 "cells": [
  {
   "cell_type": "code",
   "execution_count": null,
   "metadata": {
    "collapsed": true
   },
   "outputs": [],
   "source": [
    "# problem 63: The 5-digit number, 16807=7^5, is also a fifth power. Similarly, the 9-digit number, \n",
    "#    134217728=8^9, is a ninth power.\n",
    "\n",
    "#How many n-digit positive integers exist which are also an nth power?"
   ]
  },
  {
   "cell_type": "code",
   "execution_count": 21,
   "metadata": {
    "collapsed": false
   },
   "outputs": [
    {
     "name": "stdout",
     "output_type": "stream",
     "text": [
      "49\n"
     ]
    }
   ],
   "source": [
    "ans = 0\n",
    "for i in range(1,10):\n",
    "    powercount = 1\n",
    "    while(True):\n",
    "        value = int(pow(i , powercount))\n",
    "        lenval = len(str(value))\n",
    "        #print(value, powercount, lenval)\n",
    "        if(lenval == powercount):\n",
    "            ans += 1\n",
    "        elif(lenval < powercount):\n",
    "            break\n",
    "        powercount += 1\n",
    "print(ans)"
   ]
  },
  {
   "cell_type": "code",
   "execution_count": null,
   "metadata": {
    "collapsed": true
   },
   "outputs": [],
   "source": []
  }
 ],
 "metadata": {
  "kernelspec": {
   "display_name": "Python 3",
   "language": "python",
   "name": "python3"
  },
  "language_info": {
   "codemirror_mode": {
    "name": "ipython",
    "version": 3
   },
   "file_extension": ".py",
   "mimetype": "text/x-python",
   "name": "python",
   "nbconvert_exporter": "python",
   "pygments_lexer": "ipython3",
   "version": "3.6.0"
  }
 },
 "nbformat": 4,
 "nbformat_minor": 2
}

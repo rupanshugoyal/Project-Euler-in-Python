{
 "cells": [
  {
   "cell_type": "code",
   "execution_count": null,
   "metadata": {
    "collapsed": true
   },
   "outputs": [],
   "source": [
    "# problem 52 It can be seen that the number, 125874, and its double, 251748, contain exactly the same digits, \n",
    "#but in a different order.\n",
    "\n",
    "#Find the smallest positive integer, x, such that 2x, 3x, 4x, 5x, and 6x, contain the same digits."
   ]
  },
  {
   "cell_type": "code",
   "execution_count": 5,
   "metadata": {
    "collapsed": false
   },
   "outputs": [],
   "source": [
    "def getdigits(num):\n",
    "    l1 = list(str(num))\n",
    "    l1 = list(map(int, l1))\n",
    "    l1.sort()\n",
    "    return l1"
   ]
  },
  {
   "cell_type": "code",
   "execution_count": 8,
   "metadata": {
    "collapsed": false
   },
   "outputs": [
    {
     "name": "stdout",
     "output_type": "stream",
     "text": [
      "142857\n"
     ]
    }
   ],
   "source": [
    "number = 10000000000\n",
    "for i in range(100 ,number):\n",
    "    x1 = getdigits(i)\n",
    "    x2 = getdigits(i*2)\n",
    "    if(x1 == x2):\n",
    "        x3 = getdigits(i*3)\n",
    "        if(x2 == x3):\n",
    "            x4 = getdigits(i*4)\n",
    "            if(x3 == x4):\n",
    "                x5 = getdigits(i*5)\n",
    "                if(x4 == x5):\n",
    "                    x6 = getdigits(i*6)\n",
    "                    if(x5 == x6):\n",
    "                        print(i)\n",
    "                        break\n"
   ]
  },
  {
   "cell_type": "code",
   "execution_count": null,
   "metadata": {
    "collapsed": true
   },
   "outputs": [],
   "source": []
  }
 ],
 "metadata": {
  "kernelspec": {
   "display_name": "Python 3",
   "language": "python",
   "name": "python3"
  },
  "language_info": {
   "codemirror_mode": {
    "name": "ipython",
    "version": 3
   },
   "file_extension": ".py",
   "mimetype": "text/x-python",
   "name": "python",
   "nbconvert_exporter": "python",
   "pygments_lexer": "ipython3",
   "version": "3.6.0"
  }
 },
 "nbformat": 4,
 "nbformat_minor": 2
}

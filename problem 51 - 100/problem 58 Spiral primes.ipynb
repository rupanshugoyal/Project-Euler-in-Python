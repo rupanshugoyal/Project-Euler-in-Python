{
 "cells": [
  {
   "cell_type": "code",
   "execution_count": null,
   "metadata": {
    "collapsed": true
   },
   "outputs": [],
   "source": [
    "#problem 58 Starting with 1 and spiralling anticlockwise in the following way, a square spiral with side length 7 is formed.\n",
    "\n",
    "#                    37 36 35 34 33 32 31\n",
    "#                    38 17 16 15 14 13 30\n",
    "#                    39 18  5  4  3 12 29\n",
    "#                    40 19  6  1  2 11 28\n",
    "#                    41 20  7  8  9 10 27\n",
    "#                    42 21 22 23 24 25 26\n",
    "#                    43 44 45 46 47 48 49\n",
    "\n",
    "#It is interesting to note that the odd squares lie along the bottom right diagonal, but what is more interesting is that \n",
    "#  8 out of the 13 numbers lying along both diagonals are prime; that is, a ratio of 8/13 ≈ 62%.\n",
    "\n",
    "#If one complete new layer is wrapped around the spiral above, a square spiral with side length 9 will be formed. \n",
    "#If this process is continued, what is the side length of the square spiral for which the ratio of primes along \n",
    "#both diagonals first falls below 10%?"
   ]
  },
  {
   "cell_type": "code",
   "execution_count": 1,
   "metadata": {
    "collapsed": true
   },
   "outputs": [],
   "source": [
    "import math\n",
    "def is_prime(num):\n",
    "    for i in range(2, int(math.sqrt(num))+1):\n",
    "        if(num%i == 0):\n",
    "            return False\n",
    "    return True\n",
    "        "
   ]
  },
  {
   "cell_type": "code",
   "execution_count": 17,
   "metadata": {
    "collapsed": false
   },
   "outputs": [
    {
     "name": "stdout",
     "output_type": "stream",
     "text": [
      "26241\n"
     ]
    }
   ],
   "source": [
    "diagonalnos = []\n",
    "spiralcount = 3\n",
    "sidecount = 3\n",
    "addcount = 2\n",
    "primecount = 0\n",
    "dialgonalcount = 0 #2*sidecount - 1\n",
    "\n",
    "while(True): # each iteration add a layer to the spiral\n",
    "    diagonalnos = [spiralcount, spiralcount+addcount , spiralcount+2*addcount, spiralcount+3*addcount]\n",
    "    spiralcount += 3*addcount + sidecount + 1\n",
    "    for element in diagonalnos:\n",
    "        if(is_prime(element)):\n",
    "            primecount+=1\n",
    "    diagonalcount = 2*sidecount-1     \n",
    "    if(primecount/diagonalcount < .1):\n",
    "        print(sidecount)\n",
    "        break\n",
    "    sidecount += 2\n",
    "    addcount += 2"
   ]
  }
 ],
 "metadata": {
  "kernelspec": {
   "display_name": "Python 3",
   "language": "python",
   "name": "python3"
  },
  "language_info": {
   "codemirror_mode": {
    "name": "ipython",
    "version": 3
   },
   "file_extension": ".py",
   "mimetype": "text/x-python",
   "name": "python",
   "nbconvert_exporter": "python",
   "pygments_lexer": "ipython3",
   "version": "3.6.0"
  }
 },
 "nbformat": 4,
 "nbformat_minor": 2
}

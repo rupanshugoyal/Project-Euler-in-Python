{
 "cells": [
  {
   "cell_type": "code",
   "execution_count": null,
   "metadata": {
    "collapsed": true
   },
   "outputs": [],
   "source": [
    "#problem 18 By starting at the top of the triangle below and moving to adjacent numbers on the row below, the maximum total from top to bottom is 23.\n",
    "\n",
    "3\n",
    "7 4\n",
    "2 4 6\n",
    "8 5 9 3\n",
    "\n",
    "#That is, 3 + 7 + 4 + 9 = 23.\n",
    "\n",
    "#Find the maximum total from top to bottom of the triangle below:\n",
    "\n",
    "75\n",
    "95 64\n",
    "17 47 82\n",
    "18 35 87 10\n",
    "20 04 82 47 65\n",
    "19 01 23 75 03 34\n",
    "88 02 77 73 07 63 67\n",
    "99 65 04 28 06 16 70 92\n",
    "41 41 26 56 83 40 80 70 33\n",
    "41 48 72 33 47 32 37 16 94 29\n",
    "53 71 44 65 25 43 91 52 97 51 14\n",
    "70 11 33 28 77 73 17 78 39 68 17 57\n",
    "91 71 52 38 17 14 91 43 58 50 27 29 48\n",
    "63 66 04 68 89 53 67 30 73 16 69 87 40 31\n",
    "04 62 98 27 23 09 70 98 73 93 38 53 60 04 23\n",
    "\n",
    "#NOTE: As there are only 16384 routes, it is possible to solve this problem by trying every route. However, Problem 67, is the same \n",
    "#challenge with a triangle containing one-hundred rows; it cannot be solved by brute force, and requires a clever method! ;o)"
   ]
  },
  {
   "cell_type": "code",
   "execution_count": 4,
   "metadata": {
    "collapsed": false
   },
   "outputs": [
    {
     "name": "stdout",
     "output_type": "stream",
     "text": [
      "[(59, 0)] \n",
      "\n",
      "[(73, 0), (41, 0)] \n",
      "\n",
      "[(52, 0), (40, 0), (9, 0)] \n",
      "\n",
      "[(26, 0), (53, 0), (6, 0), (34, 0)] \n",
      "\n",
      "[(10, 0), (51, 0), (87, 0), (86, 0), (81, 0)] \n",
      "\n",
      "[(61, 0), (95, 0), (66, 0), (57, 0), (25, 0), (68, 0)] \n",
      "\n",
      "[(90, 0), (81, 0), (80, 0), (38, 0), (92, 0), (67, 0), (73, 0)] \n",
      "\n",
      "[(30, 0), (28, 0), (51, 0), (76, 0), (81, 0), (18, 0), (75, 0), (44, 0)] \n",
      "\n",
      "[(84, 0), (14, 0), (95, 0), (87, 0), (62, 0), (81, 0), (17, 0), (78, 0), (58, 0)] \n",
      "\n",
      "[(21, 0), (46, 0), (71, 0), (58, 0), (2, 0), (79, 0), (62, 0), (39, 0), (31, 0), (9, 0)] \n",
      "\n"
     ]
    }
   ],
   "source": [
    "trifile = open(\"problem 54 triangle.txt\" , \"r\")\n",
    "tristring = trifile.read()\n",
    "splitlists = tristring.split(\"\\n\")\n",
    "\n",
    "triangle = []\n",
    "tupledlist = []\n",
    "temptuple = ()\n",
    "for a in splitlists:\n",
    "    value = a.split(\" \")\n",
    "    for b in value:\n",
    "        temptuple = (int(b), 0)\n",
    "        tupledlist.append(temptuple)\n",
    "    triangle.append(tupledlist)\n",
    "    tupledlist=[]\n",
    "\n",
    "for lists in triangle[:10]:#top ten lists\n",
    "    print(lists,\"\\n\")"
   ]
  },
  {
   "cell_type": "code",
   "execution_count": 6,
   "metadata": {
    "collapsed": false
   },
   "outputs": [
    {
     "name": "stdout",
     "output_type": "stream",
     "text": [
      "7273\n"
     ]
    }
   ],
   "source": [
    "length = len(triangle)\n",
    "for i in range(len(triangle[length-1])):\n",
    "    value = triangle[length-1][i][0]\n",
    "    triangle[length-1][i] = (value , value)\n",
    "\n",
    "maxindex = 0\n",
    "for i in range(len(triangle)-2 , -1 , -1):\n",
    "    for j in range(len(triangle[i])):\n",
    "        triangle[i][j] = (triangle[i][j][0],max(triangle[i][j][0]+triangle[i+1][j][1],triangle[i][j][0]+triangle[i+1][j+1][1]))\n",
    "print(triangle[0][0][1])"
   ]
  },
  {
   "cell_type": "code",
   "execution_count": 10,
   "metadata": {
    "collapsed": false
   },
   "outputs": [
    {
     "name": "stdout",
     "output_type": "stream",
     "text": [
      "[(59, 7273)] \n",
      "\n",
      "[(73, 7214), (41, 7170)] \n",
      "\n",
      "[(52, 7141), (40, 7129), (9, 7078)] \n",
      "\n",
      "[(26, 7028), (53, 7089), (6, 7042), (34, 7069)] \n",
      "\n",
      "[(10, 6961), (51, 7002), (87, 7036), (86, 7035), (81, 6998)] \n",
      "\n",
      "[(61, 6812), (95, 6951), (66, 6922), (57, 6949), (25, 6917), (68, 6915)] \n",
      "\n",
      "[(90, 6740), (81, 6751), (80, 6856), (38, 6838), (92, 6892), (67, 6841), (73, 6847)] \n",
      "\n",
      "[(30, 6650), (28, 6647), (51, 6670), (76, 6776), (81, 6800), (18, 6737), (75, 6774), (44, 6743)] \n",
      "\n",
      "[(84, 6620), (14, 6550), (95, 6619), (87, 6611), (62, 6700), (81, 6719), (17, 6638), (78, 6699), (58, 6671)] \n",
      "\n",
      "[(21, 6533), (46, 6536), (71, 6513), (58, 6524), (2, 6511), (79, 6638), (62, 6621), (39, 6621), (31, 6613), (9, 6564)] \n",
      "\n"
     ]
    }
   ],
   "source": [
    "for lists in triangle[:10]:#top ten lists\n",
    "    print(lists,\"\\n\")"
   ]
  },
  {
   "cell_type": "code",
   "execution_count": null,
   "metadata": {
    "collapsed": true
   },
   "outputs": [],
   "source": []
  }
 ],
 "metadata": {
  "kernelspec": {
   "display_name": "Python 3",
   "language": "python",
   "name": "python3"
  },
  "language_info": {
   "codemirror_mode": {
    "name": "ipython",
    "version": 3
   },
   "file_extension": ".py",
   "mimetype": "text/x-python",
   "name": "python",
   "nbconvert_exporter": "python",
   "pygments_lexer": "ipython3",
   "version": "3.6.0"
  }
 },
 "nbformat": 4,
 "nbformat_minor": 2
}

{
 "cells": [
  {
   "cell_type": "code",
   "execution_count": null,
   "metadata": {
    "collapsed": true
   },
   "outputs": [],
   "source": [
    "#problem 97 The first known prime found to exceed one million digits was discovered in 1999, \n",
    "#and is a Mersenne prime of the form 2^6972593−1; it contains exactly 2,098,960 digits. \n",
    "#Subsequently other Mersenne primes, of the form 2^p−1, have been found which contain more digits.\n",
    "\n",
    "#However, in 2004 there was found a massive non-Mersenne prime which contains 2,357,207 digits: 28433×2^7830457+1.\n",
    "\n",
    "#Find the last ten digits of this prime number."
   ]
  },
  {
   "cell_type": "code",
   "execution_count": 2,
   "metadata": {
    "collapsed": false
   },
   "outputs": [
    {
     "name": "stdout",
     "output_type": "stream",
     "text": [
      "8739992577\n"
     ]
    }
   ],
   "source": [
    "# we have to find the last ten digits of the given number\n",
    "\n",
    "#                28433×2^7830457+1\n",
    "\n",
    "# multiply everything with a mod of 10000000000\n",
    "ans = 1\n",
    "for i in range(7830457):\n",
    "    ans *= 2\n",
    "    ans = ans%10000000000\n",
    "    \n",
    "ans = (ans*28433 + 1)%10000000000\n",
    "\n",
    "print(ans)"
   ]
  },
  {
   "cell_type": "code",
   "execution_count": null,
   "metadata": {
    "collapsed": true
   },
   "outputs": [],
   "source": []
  }
 ],
 "metadata": {
  "kernelspec": {
   "display_name": "Python 3",
   "language": "python",
   "name": "python3"
  },
  "language_info": {
   "codemirror_mode": {
    "name": "ipython",
    "version": 3
   },
   "file_extension": ".py",
   "mimetype": "text/x-python",
   "name": "python",
   "nbconvert_exporter": "python",
   "pygments_lexer": "ipython3",
   "version": "3.6.0"
  }
 },
 "nbformat": 4,
 "nbformat_minor": 2
}

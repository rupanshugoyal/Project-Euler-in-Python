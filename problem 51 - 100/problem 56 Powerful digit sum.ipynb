{
 "cells": [
  {
   "cell_type": "code",
   "execution_count": null,
   "metadata": {
    "collapsed": true
   },
   "outputs": [],
   "source": [
    "#problem 56 A googol (10^100) is a massive number: one followed by one-hundred zeros; \n",
    "#100^100 is almost unimaginably large: one followed by two-hundred zeros. \n",
    "#Despite their size, the sum of the digits in each number is only 1.\n",
    "\n",
    "#Considering natural numbers of the form, ab, where a, b < 100, what is the maximum digital sum?"
   ]
  },
  {
   "cell_type": "code",
   "execution_count": 1,
   "metadata": {
    "collapsed": true
   },
   "outputs": [],
   "source": [
    "def power(a,b):\n",
    "    answer = 1\n",
    "    for i in range(0, b):\n",
    "        answer *= a\n",
    "    return answer\n",
    "    "
   ]
  },
  {
   "cell_type": "code",
   "execution_count": 11,
   "metadata": {
    "collapsed": false
   },
   "outputs": [
    {
     "name": "stdout",
     "output_type": "stream",
     "text": [
      "972\n"
     ]
    }
   ],
   "source": [
    "maxans = 0\n",
    "for x in range(0,100):\n",
    "    for y in range(0,100):\n",
    "        value = sum(list(map(int, list(str(power(x,y))))))\n",
    "        if(value > maxans):\n",
    "            maxans = value\n",
    "            \n",
    "print(maxans)\n",
    "        "
   ]
  },
  {
   "cell_type": "code",
   "execution_count": null,
   "metadata": {
    "collapsed": true
   },
   "outputs": [],
   "source": []
  }
 ],
 "metadata": {
  "kernelspec": {
   "display_name": "Python 3",
   "language": "python",
   "name": "python3"
  },
  "language_info": {
   "codemirror_mode": {
    "name": "ipython",
    "version": 3
   },
   "file_extension": ".py",
   "mimetype": "text/x-python",
   "name": "python",
   "nbconvert_exporter": "python",
   "pygments_lexer": "ipython3",
   "version": "3.6.0"
  }
 },
 "nbformat": 4,
 "nbformat_minor": 2
}

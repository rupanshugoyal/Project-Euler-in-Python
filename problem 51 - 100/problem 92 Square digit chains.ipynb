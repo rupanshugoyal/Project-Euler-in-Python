{
 "cells": [
  {
   "cell_type": "code",
   "execution_count": null,
   "metadata": {
    "collapsed": true
   },
   "outputs": [],
   "source": [
    "# problem 92 A number chain is created by continuously adding the square of the digits in a number \n",
    "#to form a new number until it has been seen before.\n",
    "\n",
    "#For example,\n",
    "\n",
    "#        44 → 32 → 13 → 10 → 1 → 1\n",
    "#        85 → 89 → 145 → 42 → 20 → 4 → 16 → 37 → 58 → 89\n",
    "\n",
    "#Therefore any chain that arrives at 1 or 89 will become stuck in an endless loop. \n",
    "#What is most amazing is that EVERY starting number will eventually arrive at 1 or 89.\n",
    "\n",
    "#How many starting numbers below ten million will arrive at 89?"
   ]
  },
  {
   "cell_type": "code",
   "execution_count": 8,
   "metadata": {
    "collapsed": true
   },
   "outputs": [],
   "source": [
    "def squarechain(num, chainlist):\n",
    "    if(num == 1 or num == 89):\n",
    "        return chainlist\n",
    "    value = 0\n",
    "    for digit in list(map(int , list(str(num)))):\n",
    "        value += digit*digit\n",
    "    chainlist.append(value)\n",
    "    return squarechain(value, chainlist)\n",
    "    "
   ]
  },
  {
   "cell_type": "code",
   "execution_count": 14,
   "metadata": {
    "collapsed": false
   },
   "outputs": [
    {
     "name": "stdout",
     "output_type": "stream",
     "text": [
      "8581146\n"
     ]
    }
   ],
   "source": [
    "limit = 10000000 # ten million\n",
    "end89 = 0\n",
    "for i in range(2, limit+1):\n",
    "    if(squarechain(i, [i])[-1] == 89):\n",
    "        end89 += 1\n",
    "print(end89)"
   ]
  },
  {
   "cell_type": "code",
   "execution_count": null,
   "metadata": {
    "collapsed": true
   },
   "outputs": [],
   "source": []
  }
 ],
 "metadata": {
  "kernelspec": {
   "display_name": "Python 3",
   "language": "python",
   "name": "python3"
  },
  "language_info": {
   "codemirror_mode": {
    "name": "ipython",
    "version": 3
   },
   "file_extension": ".py",
   "mimetype": "text/x-python",
   "name": "python",
   "nbconvert_exporter": "python",
   "pygments_lexer": "ipython3",
   "version": "3.6.0"
  }
 },
 "nbformat": 4,
 "nbformat_minor": 2
}

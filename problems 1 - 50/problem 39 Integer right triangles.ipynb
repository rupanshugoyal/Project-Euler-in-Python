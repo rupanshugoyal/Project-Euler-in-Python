{
 "cells": [
  {
   "cell_type": "code",
   "execution_count": null,
   "metadata": {
    "collapsed": true
   },
   "outputs": [],
   "source": [
    "#problem 39 If p is the perimeter of a right angle triangle with integral length sides, {a,b,c}, \n",
    "#there are exactly three solutions for p = 120.\n",
    "\n",
    "#    {20,48,52}, {24,45,51}, {30,40,50}\n",
    "\n",
    "#For which value of p ≤ 1000, is the number of solutions maximised?"
   ]
  },
  {
   "cell_type": "code",
   "execution_count": null,
   "metadata": {
    "collapsed": false
   },
   "outputs": [],
   "source": [
    "import math\n",
    "def cside(a , b):\n",
    "    return math.sqrt(a*a + b*b)\n",
    "\n",
    "sums = list(str('0'*1001))\n",
    "sums = list(map(int, sums))\n",
    "\n",
    "for a in range(1, 1000):\n",
    "    for b in range(1 ,1000):\n",
    "        c = cside(a,b)\n",
    "        if(c.is_integer()):\n",
    "            p = int(a + b + c)            \n",
    "            if(p <= 1000):\n",
    "                sums[p] += 1"
   ]
  },
  {
   "cell_type": "code",
   "execution_count": 17,
   "metadata": {
    "collapsed": false
   },
   "outputs": [
    {
     "name": "stdout",
     "output_type": "stream",
     "text": [
      "[840]\n"
     ]
    }
   ],
   "source": [
    "x = [i for i in range(0, len(sums)) if sums[i] == max(sums)]\n",
    "print(x)"
   ]
  }
 ],
 "metadata": {
  "kernelspec": {
   "display_name": "Python 3",
   "language": "python",
   "name": "python3"
  },
  "language_info": {
   "codemirror_mode": {
    "name": "ipython",
    "version": 3
   },
   "file_extension": ".py",
   "mimetype": "text/x-python",
   "name": "python",
   "nbconvert_exporter": "python",
   "pygments_lexer": "ipython3",
   "version": "3.6.0"
  }
 },
 "nbformat": 4,
 "nbformat_minor": 2
}

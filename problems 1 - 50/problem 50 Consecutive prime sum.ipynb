{
 "cells": [
  {
   "cell_type": "code",
   "execution_count": null,
   "metadata": {
    "collapsed": true
   },
   "outputs": [],
   "source": [
    "#problem 50 The prime 41, can be written as the sum of six consecutive primes:\n",
    "\n",
    "#        41 = 2 + 3 + 5 + 7 + 11 + 13\n",
    "#This is the longest sum of consecutive primes that adds to a prime below one-hundred.\n",
    "\n",
    "#The longest sum of consecutive primes below one-thousand that adds to a prime, contains 21 terms, and is equal to 953.\n",
    "\n",
    "#Which prime, below one-million, can be written as the sum of the most consecutive primes?"
   ]
  },
  {
   "cell_type": "code",
   "execution_count": 16,
   "metadata": {
    "collapsed": false
   },
   "outputs": [],
   "source": [
    "number = 1000000\n",
    "primes = {}\n",
    "primeslist = []\n",
    "primes[1] = 0\n",
    "primes[2] = 1 # prime[i] = 1 => prime else => not prime\n",
    "for i in range (2, number):\n",
    "    primes[i] = 1\n",
    "\n",
    "for i in range(2, number):\n",
    "    if(primes[i] == 1):\n",
    "        j = 2\n",
    "        while(1):\n",
    "            if(i*j > number):\n",
    "                break\n",
    "            primes[i*j] = 0\n",
    "            j = j + 1\n",
    "    i = i + 1\n",
    "    \n",
    "for i in range(2, number):\n",
    "    if(primes[i] == 1):\n",
    "        primeslist.append(i)\n",
    "\n",
    "\n",
    "nostaken = 2 #nos taken together\n",
    "for j in range(0 , len(primeslist)):\n",
    "    for i in range(0 , len(primeslist)):\n",
    "        value = sum(primeslist[i: i+nostaken])\n",
    "        if(value>1000000):\n",
    "            break\n",
    "        else: \n",
    "            primes[value] = nostaken\n",
    "    nostaken += 1\n",
    "   "
   ]
  },
  {
   "cell_type": "code",
   "execution_count": 17,
   "metadata": {
    "collapsed": false
   },
   "outputs": [
    {
     "name": "stdout",
     "output_type": "stream",
     "text": [
      "997651\n"
     ]
    }
   ],
   "source": [
    "maxnos = 0\n",
    "ans = 0\n",
    "for i in primeslist:\n",
    "    if(primes[i] > maxnos):\n",
    "        maxnos = primes[i]\n",
    "        ans = i\n",
    "print(ans)"
   ]
  },
  {
   "cell_type": "code",
   "execution_count": null,
   "metadata": {
    "collapsed": true
   },
   "outputs": [],
   "source": []
  }
 ],
 "metadata": {
  "kernelspec": {
   "display_name": "Python 3",
   "language": "python",
   "name": "python3"
  },
  "language_info": {
   "codemirror_mode": {
    "name": "ipython",
    "version": 3
   },
   "file_extension": ".py",
   "mimetype": "text/x-python",
   "name": "python",
   "nbconvert_exporter": "python",
   "pygments_lexer": "ipython3",
   "version": "3.6.0"
  }
 },
 "nbformat": 4,
 "nbformat_minor": 2
}

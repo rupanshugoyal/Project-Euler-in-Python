{
 "cells": [
  {
   "cell_type": "code",
   "execution_count": null,
   "metadata": {
    "collapsed": false
   },
   "outputs": [],
   "source": [
    "#problem 23 A perfect number is a number for which the sum of its proper divisors is exactly equal to the number. \n",
    "#For example, the sum of the proper divisors of 28 would be 1 + 2 + 4 + 7 + 14 = 28, which means that 28 is a perfect number.\n",
    "\n",
    "#A number n is called deficient if the sum of its proper divisors is less than n and it is called abundant if this sum exceeds n.\n",
    "\n",
    "#As 12 is the smallest abundant number, 1 + 2 + 3 + 4 + 6 = 16, the smallest number that can be written as the sum of two \n",
    "#abundant numbers is 24. By mathematical analysis, it can be shown that all integers greater than 28123 can be written as \n",
    "#the sum of two abundant numbers. However, this upper limit cannot be reduced any further by analysis even though it is known \n",
    "#that the greatest number that cannot be expressed as the sum of two abundant numbers is less than this limit.\n",
    "\n",
    "#Find the sum of all the positive integers which cannot be written as the sum of two abundant numbers."
   ]
  },
  {
   "cell_type": "code",
   "execution_count": 24,
   "metadata": {
    "collapsed": false
   },
   "outputs": [
    {
     "name": "stdout",
     "output_type": "stream",
     "text": [
      "4179871\n"
     ]
    }
   ],
   "source": [
    "import math\n",
    "def generatedivisors(num, div):\n",
    "    i = 1\n",
    "    while i <= math.sqrt(num): \n",
    "          \n",
    "        if (num % i == 0) : \n",
    "              \n",
    "            # If divisors are equal, print only one \n",
    "            if (num / i == i) : \n",
    "                div.append(i) \n",
    "            else : \n",
    "                # Otherwise print both \n",
    "                if(i == 1):\n",
    "                    div.append(i)\n",
    "                else:\n",
    "                    div.append(i) \n",
    "                    div.append(int(num/i)) \n",
    "        i = i + 1\n",
    "    return div\n",
    "\n",
    "#generate divisors of all the numbers\n",
    "divisors = []\n",
    "abundantnos = []\n",
    "for i in range(1, 28124):\n",
    "    divisors = generatedivisors(i, divisors)\n",
    "    if(i < sum(divisors)):\n",
    "        abundantnos.append(i)\n",
    "    divisors = []\n",
    "\n",
    "\n",
    "sums = []\n",
    "for i in abundantnos:\n",
    "    for j in abundantnos:\n",
    "        sums.append(i+j)\n",
    "\n",
    "others = set((range(28124))) - set(sums)\n",
    "print(sum(others))"
   ]
  }
 ],
 "metadata": {
  "kernelspec": {
   "display_name": "Python 3",
   "language": "python",
   "name": "python3"
  },
  "language_info": {
   "codemirror_mode": {
    "name": "ipython",
    "version": 3
   },
   "file_extension": ".py",
   "mimetype": "text/x-python",
   "name": "python",
   "nbconvert_exporter": "python",
   "pygments_lexer": "ipython3",
   "version": "3.6.0"
  }
 },
 "nbformat": 4,
 "nbformat_minor": 2
}

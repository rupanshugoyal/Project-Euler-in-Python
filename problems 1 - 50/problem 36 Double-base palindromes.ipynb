{
 "cells": [
  {
   "cell_type": "code",
   "execution_count": null,
   "metadata": {
    "collapsed": true
   },
   "outputs": [],
   "source": [
    "#problem 36 The decimal number, 585 = (1001001001)2 (binary), is palindromic in both bases.\n",
    "\n",
    "#Find the sum of all numbers, less than one million, which are palindromic in base 10 and base 2.\n",
    "\n",
    "#(Please note that the palindromic number, in either base, may not include leading zeros.)"
   ]
  },
  {
   "cell_type": "code",
   "execution_count": 9,
   "metadata": {
    "collapsed": false
   },
   "outputs": [
    {
     "data": {
      "text/plain": [
       "872187"
      ]
     },
     "execution_count": 9,
     "metadata": {},
     "output_type": "execute_result"
    }
   ],
   "source": [
    "def palindrome(S):\n",
    "    if(S == S[::-1]):\n",
    "        return True\n",
    "    else:\n",
    "        return False\n",
    "\n",
    "decimallist = []\n",
    "for i in range(1, 1000001):\n",
    "    if(palindrome(str(i))):\n",
    "        decimallist.append(i)\n",
    "\n",
    "binarylist = []\n",
    "for i in decimallist:\n",
    "    if(palindrome(str(bin(i))[2:])):\n",
    "        binarylist.append(i)\n",
    "sum(binarylist)"
   ]
  }
 ],
 "metadata": {
  "kernelspec": {
   "display_name": "Python 3",
   "language": "python",
   "name": "python3"
  },
  "language_info": {
   "codemirror_mode": {
    "name": "ipython",
    "version": 3
   },
   "file_extension": ".py",
   "mimetype": "text/x-python",
   "name": "python",
   "nbconvert_exporter": "python",
   "pygments_lexer": "ipython3",
   "version": "3.6.0"
  }
 },
 "nbformat": 4,
 "nbformat_minor": 2
}

{
 "cells": [
  {
   "cell_type": "code",
   "execution_count": null,
   "metadata": {
    "collapsed": true
   },
   "outputs": [],
   "source": [
    "#problem 41 We shall say that an n-digit number is pandigital if it makes use of all the digits 1 to n exactly once. \n",
    "#For example, 2143 is a 4-digit pandigital and is also prime.\n",
    "\n",
    "#What is the largest n-digit pandigital prime that exists?"
   ]
  },
  {
   "cell_type": "code",
   "execution_count": 59,
   "metadata": {
    "collapsed": false
   },
   "outputs": [],
   "source": [
    "import itertools as it\n",
    "import math\n",
    "def is_prime(num):\n",
    "    ans = True\n",
    "    for i in range(2 , int(math.sqrt(num))):\n",
    "        if(num%i == 0):\n",
    "            ans = False\n",
    "            break\n",
    "    return ans\n",
    "panlist = ['7','6','5','4','3','2','1']\n",
    "nos = list(it.permutations(panlist))\n"
   ]
  },
  {
   "cell_type": "code",
   "execution_count": 60,
   "metadata": {
    "collapsed": false
   },
   "outputs": [
    {
     "name": "stdout",
     "output_type": "stream",
     "text": [
      "7652413\n"
     ]
    }
   ],
   "source": [
    "for i in nos:\n",
    "    num = \"\".join([x[0] for x in i])\n",
    "    if(is_prime(int(num))):\n",
    "        print(num)\n",
    "        break"
   ]
  },
  {
   "cell_type": "code",
   "execution_count": null,
   "metadata": {
    "collapsed": true
   },
   "outputs": [],
   "source": []
  }
 ],
 "metadata": {
  "kernelspec": {
   "display_name": "Python 3",
   "language": "python",
   "name": "python3"
  },
  "language_info": {
   "codemirror_mode": {
    "name": "ipython",
    "version": 3
   },
   "file_extension": ".py",
   "mimetype": "text/x-python",
   "name": "python",
   "nbconvert_exporter": "python",
   "pygments_lexer": "ipython3",
   "version": "3.6.0"
  }
 },
 "nbformat": 4,
 "nbformat_minor": 2
}

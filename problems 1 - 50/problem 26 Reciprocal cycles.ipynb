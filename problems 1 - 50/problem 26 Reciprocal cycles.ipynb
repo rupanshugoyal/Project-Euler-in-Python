{
 "cells": [
  {
   "cell_type": "code",
   "execution_count": null,
   "metadata": {
    "collapsed": true
   },
   "outputs": [],
   "source": [
    "#problem 26 A unit fraction contains 1 in the numerator. \n",
    "#The decimal representation of the unit fractions with denominators 2 to 10 are given:\n",
    "\n",
    "# 1/2\t= \t0.5\n",
    "# 1/3\t= \t0.(3)\n",
    "# 1/4\t= \t0.25\n",
    "# 1/5\t= \t0.2\n",
    "# 1/6\t= \t0.1(6)\n",
    "# 1/7\t= \t0.(142857)\n",
    "# 1/8\t= \t0.125\n",
    "# 1/9\t= \t0.(1)\n",
    "# 1/10\t= \t0.1\n",
    "#Where 0.1(6) means 0.166666..., and has a 1-digit recurring cycle. It can be seen that 1/7 has a 6-digit recurring cycle.\n",
    "\n",
    "#Find the value of d < 1000 for which 1/d contains the longest recurring cycle in its decimal fraction part."
   ]
  },
  {
   "cell_type": "code",
   "execution_count": 18,
   "metadata": {
    "collapsed": false
   },
   "outputs": [
    {
     "name": "stdout",
     "output_type": "stream",
     "text": [
      "983\n"
     ]
    }
   ],
   "source": [
    "def cycleof(no):\n",
    "    cyclist = []\n",
    "    cy = 0\n",
    "    rem = div = 1\n",
    "    while(int(div/no) < 1): #trailing zeros removed\n",
    "        div = div*10\n",
    "    if(div%no != 0):\n",
    "        while(rem != 0):\n",
    "            rem = div%no\n",
    "            #print(rem)\n",
    "            div = rem*10\n",
    "            if(rem not in cyclist):\n",
    "                cyclist.append(rem)\n",
    "            else:\n",
    "                cy = len(cyclist) - cyclist.index(rem)\n",
    "                break\n",
    "    return cy\n",
    "\n",
    "longestrc = 0\n",
    "index = 1\n",
    "for i in range(2, 1001):\n",
    "    rc = cycleof(i)\n",
    "    if(longestrc < rc):\n",
    "        longestrc = rc\n",
    "        index = i\n",
    "print(index)"
   ]
  }
 ],
 "metadata": {
  "kernelspec": {
   "display_name": "Python 3",
   "language": "python",
   "name": "python3"
  },
  "language_info": {
   "codemirror_mode": {
    "name": "ipython",
    "version": 3
   },
   "file_extension": ".py",
   "mimetype": "text/x-python",
   "name": "python",
   "nbconvert_exporter": "python",
   "pygments_lexer": "ipython3",
   "version": "3.6.0"
  }
 },
 "nbformat": 4,
 "nbformat_minor": 2
}

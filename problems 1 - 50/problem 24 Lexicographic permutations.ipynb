{
 "cells": [
  {
   "cell_type": "code",
   "execution_count": null,
   "metadata": {
    "collapsed": true
   },
   "outputs": [],
   "source": [
    "#problem 24 A permutation is an ordered arrangement of objects. \n",
    "#For example, 3124 is one possible permutation of the digits 1, 2, 3 and 4. \n",
    "#If all of the permutations are listed numerically or alphabetically, we call it lexicographic order. \n",
    "#The lexicographic permutations of 0, 1 and 2 are:\n",
    "\n",
    "#                     012   021   102   120   201   210\n",
    "\n",
    "#What is the millionth lexicographic permutation of the digits 0, 1, 2, 3, 4, 5, 6, 7, 8 and 9?"
   ]
  },
  {
   "cell_type": "code",
   "execution_count": 5,
   "metadata": {
    "collapsed": false
   },
   "outputs": [
    {
     "data": {
      "text/plain": [
       "(2, 7, 8, 3, 9, 1, 5, 4, 6, 0)"
      ]
     },
     "execution_count": 5,
     "metadata": {},
     "output_type": "execute_result"
    }
   ],
   "source": [
    "import itertools as it\n",
    "x = list(it.permutations([0, 1, 2, 3, 4, 5, 6, 7, 8, 9]))\n",
    "x[1000000 - 1]"
   ]
  }
 ],
 "metadata": {
  "kernelspec": {
   "display_name": "Python 3",
   "language": "python",
   "name": "python3"
  },
  "language_info": {
   "codemirror_mode": {
    "name": "ipython",
    "version": 3
   },
   "file_extension": ".py",
   "mimetype": "text/x-python",
   "name": "python",
   "nbconvert_exporter": "python",
   "pygments_lexer": "ipython3",
   "version": "3.6.0"
  }
 },
 "nbformat": 4,
 "nbformat_minor": 2
}

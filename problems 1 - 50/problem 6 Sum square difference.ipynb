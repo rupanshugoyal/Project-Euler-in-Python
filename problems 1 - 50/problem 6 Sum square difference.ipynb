{
 "cells": [
  {
   "cell_type": "code",
   "execution_count": null,
   "metadata": {
    "collapsed": true
   },
   "outputs": [],
   "source": [
    "# problem 6: The sum of the squares of the first ten natural numbers is,\n",
    "\n",
    "#1^2 + 2^2 + ... + 10^2 = 385\n",
    "#The square of the sum of the first ten natural numbers is,\n",
    "\n",
    "#(1 + 2 + ... + 10)^2 = 552 = 3025\n",
    "#Hence the difference between the sum of the squares of the first ten natural numbers and the square of the sum is 3025 − 385 = 2640.\n",
    "\n",
    "#Find the difference between the sum of the squares of the first one hundred natural numbers and the square of the sum."
   ]
  },
  {
   "cell_type": "code",
   "execution_count": 6,
   "metadata": {
    "collapsed": true
   },
   "outputs": [],
   "source": [
    "sumofsquare = 0\n",
    "squareofsum = 0\n",
    "n = 100 #for first n nos.\n",
    "\n",
    "sumofsquare = n*(n + 1)*(2*n + 1)/6\n",
    "squareofsum = n*n*(n+1)*(n+1)/4\n",
    "\n",
    "difference =squareofsum - sumofsquare"
   ]
  },
  {
   "cell_type": "code",
   "execution_count": 7,
   "metadata": {
    "collapsed": false
   },
   "outputs": [
    {
     "name": "stdout",
     "output_type": "stream",
     "text": [
      "25164150.0\n"
     ]
    }
   ],
   "source": [
    "print(difference)"
   ]
  },
  {
   "cell_type": "code",
   "execution_count": null,
   "metadata": {
    "collapsed": true
   },
   "outputs": [],
   "source": []
  }
 ],
 "metadata": {
  "kernelspec": {
   "display_name": "Python 3",
   "language": "python",
   "name": "python3"
  },
  "language_info": {
   "codemirror_mode": {
    "name": "ipython",
    "version": 3
   },
   "file_extension": ".py",
   "mimetype": "text/x-python",
   "name": "python",
   "nbconvert_exporter": "python",
   "pygments_lexer": "ipython3",
   "version": "3.6.0"
  }
 },
 "nbformat": 4,
 "nbformat_minor": 2
}

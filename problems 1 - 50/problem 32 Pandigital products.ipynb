{
 "cells": [
  {
   "cell_type": "code",
   "execution_count": null,
   "metadata": {
    "collapsed": true
   },
   "outputs": [],
   "source": [
    "#problem 32 We shall say that an n-digit number is pandigital if it makes use of all the digits 1 to n exactly once; \n",
    "#for example, the 5-digit number, 15234, is 1 through 5 pandigital.\n",
    "\n",
    "#The product 7254 is unusual, as the identity, 39 × 186 = 7254, containing multiplicand, multiplier, and product \n",
    "#is 1 through 9 pandigital.\n",
    "\n",
    "#Find the sum of all products whose multiplicand/multiplier/product identity can be written as a 1 through 9 pandigital.\n",
    "\n",
    "#HINT: Some products can be obtained in more than one way so be sure to only include it once in your sum."
   ]
  },
  {
   "cell_type": "code",
   "execution_count": 31,
   "metadata": {
    "collapsed": false
   },
   "outputs": [
    {
     "name": "stdout",
     "output_type": "stream",
     "text": [
      "45228\n"
     ]
    }
   ],
   "source": [
    "U = ['1','2','3','4','5','6','7','8','9']\n",
    "def getdigits(num):\n",
    "    digits = []\n",
    "    digits = list(str(num))\n",
    "    return digits\n",
    "\n",
    "pandigital = set()\n",
    "D = []\n",
    "for a in range(1, 10000):\n",
    "    for b in range(1, 10000):\n",
    "        D = []\n",
    "        D = D + getdigits(a)\n",
    "        D = D + getdigits(b)\n",
    "        D = D + getdigits(a*b)\n",
    "        D.sort()\n",
    "        if(U == D):\n",
    "            pandigital.add(a*b)\n",
    "            \n",
    "print(sum(pandigital))            "
   ]
  }
 ],
 "metadata": {
  "kernelspec": {
   "display_name": "Python 3",
   "language": "python",
   "name": "python3"
  },
  "language_info": {
   "codemirror_mode": {
    "name": "ipython",
    "version": 3
   },
   "file_extension": ".py",
   "mimetype": "text/x-python",
   "name": "python",
   "nbconvert_exporter": "python",
   "pygments_lexer": "ipython3",
   "version": "3.6.0"
  }
 },
 "nbformat": 4,
 "nbformat_minor": 2
}

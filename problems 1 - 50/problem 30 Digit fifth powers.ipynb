{
 "cells": [
  {
   "cell_type": "code",
   "execution_count": null,
   "metadata": {
    "collapsed": true
   },
   "outputs": [],
   "source": [
    "#project 30 Surprisingly there are only three numbers that can be written as the sum of fourth powers of their digits:\n",
    "\n",
    "#    1634 = 14 + 64 + 34 + 44\n",
    "#    8208 = 84 + 24 + 04 + 84\n",
    "#    9474 = 94 + 44 + 74 + 44\n",
    "#As 1 = 14 is not a sum it is not included.\n",
    "\n",
    "#The sum of these numbers is 1634 + 8208 + 9474 = 19316.\n",
    "\n",
    "#Find the sum of all the numbers that can be written as the sum of fifth powers of their digits."
   ]
  },
  {
   "cell_type": "code",
   "execution_count": 11,
   "metadata": {
    "collapsed": false
   },
   "outputs": [
    {
     "data": {
      "text/plain": [
       "443839"
      ]
     },
     "execution_count": 11,
     "metadata": {},
     "output_type": "execute_result"
    }
   ],
   "source": [
    "D = []\n",
    "def getdigits(num):\n",
    "    digits = []\n",
    "    while(num > 0):\n",
    "        digits.append(num%10)\n",
    "        num = int(num / 10)\n",
    "    return digits\n",
    "\n",
    "import math as M\n",
    "numbers = []\n",
    "for i in range(11, 1000000):\n",
    "    D = getdigits(i)\n",
    "    S = 0\n",
    "    for j in D:\n",
    "        S += M.pow(j, 5)\n",
    "    if(S == i):\n",
    "        numbers.append(i)\n",
    "sum(numbers)"
   ]
  },
  {
   "cell_type": "code",
   "execution_count": 12,
   "metadata": {
    "collapsed": false
   },
   "outputs": [
    {
     "data": {
      "text/plain": [
       "[4150, 4151, 54748, 92727, 93084, 194979]"
      ]
     },
     "execution_count": 12,
     "metadata": {},
     "output_type": "execute_result"
    }
   ],
   "source": [
    "numbers"
   ]
  }
 ],
 "metadata": {
  "kernelspec": {
   "display_name": "Python 3",
   "language": "python",
   "name": "python3"
  },
  "language_info": {
   "codemirror_mode": {
    "name": "ipython",
    "version": 3
   },
   "file_extension": ".py",
   "mimetype": "text/x-python",
   "name": "python",
   "nbconvert_exporter": "python",
   "pygments_lexer": "ipython3",
   "version": "3.6.0"
  }
 },
 "nbformat": 4,
 "nbformat_minor": 2
}

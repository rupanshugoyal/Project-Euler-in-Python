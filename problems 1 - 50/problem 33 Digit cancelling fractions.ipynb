{
 "cells": [
  {
   "cell_type": "code",
   "execution_count": 1,
   "metadata": {
    "collapsed": true
   },
   "outputs": [],
   "source": [
    "#problem 33 The fraction 49/98 is a curious fraction, as an inexperienced mathematician in attempting to simplify \n",
    "#it may incorrectly believe that 49/98 = 4/8, which is correct, is obtained by cancelling the 9s.\n",
    "\n",
    "#We shall consider fractions like, 30/50 = 3/5, to be trivial examples.\n",
    "\n",
    "#There are exactly four non-trivial examples of this type of fraction, less than one in value, and containing two digits \n",
    "#in the numerator and denominator.\n",
    "\n",
    "#If the product of these four fractions is given in its lowest common terms, find the value of the denominator.\n"
   ]
  },
  {
   "cell_type": "code",
   "execution_count": 59,
   "metadata": {
    "collapsed": false
   },
   "outputs": [
    {
     "name": "stdout",
     "output_type": "stream",
     "text": [
      "16 64\n",
      "19 95\n",
      "26 65\n",
      "49 98\n"
     ]
    }
   ],
   "source": [
    "def getdigitslist(num):\n",
    "    digits = list(map(int,list(str(num))))\n",
    "    return digits\n",
    " \n",
    "product = 1\n",
    "for i in range(10, 100):\n",
    "    for j in range(10 , 100):\n",
    "        if(i%10 != 0 and j%10 != 0 and i != j):\n",
    "            ilist = getdigitslist(i)\n",
    "            jlist = getdigitslist(j)\n",
    "            intersection = list(set([a for a in ilist if a in jlist]))\n",
    "            if(len(intersection) > 0):\n",
    "                ilist.remove(intersection[0])\n",
    "                jlist.remove(intersection[0])\n",
    "                \n",
    "                if(ilist[0]/jlist[0] == i/j and i/j <1):\n",
    "                    product *= jlist[0]\n",
    "                    print(i, j)"
   ]
  }
 ],
 "metadata": {
  "kernelspec": {
   "display_name": "Python 3",
   "language": "python",
   "name": "python3"
  },
  "language_info": {
   "codemirror_mode": {
    "name": "ipython",
    "version": 3
   },
   "file_extension": ".py",
   "mimetype": "text/x-python",
   "name": "python",
   "nbconvert_exporter": "python",
   "pygments_lexer": "ipython3",
   "version": "3.6.0"
  }
 },
 "nbformat": 4,
 "nbformat_minor": 2
}

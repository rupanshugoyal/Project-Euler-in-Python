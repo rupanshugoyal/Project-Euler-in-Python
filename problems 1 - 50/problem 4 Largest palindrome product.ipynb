{
 "cells": [
  {
   "cell_type": "code",
   "execution_count": null,
   "metadata": {
    "collapsed": true
   },
   "outputs": [],
   "source": [
    "#problem 4: A palindromic number reads the same both ways. \n",
    "#The largest palindrome made from the product of two 2-digit numbers is 9009 = 91 × 99.\n",
    "\n",
    "#Find the largest palindrome made from the product of two 3-digit numbers."
   ]
  },
  {
   "cell_type": "code",
   "execution_count": 14,
   "metadata": {
    "collapsed": false
   },
   "outputs": [
    {
     "data": {
      "text/plain": [
       "906609"
      ]
     },
     "execution_count": 14,
     "metadata": {},
     "output_type": "execute_result"
    }
   ],
   "source": [
    "def isPalindrome(a):\n",
    "    num = a\n",
    "    rev = 0\n",
    "    while(a != 0):\n",
    "        rev = rev*10 + a%10\n",
    "        a = int(a / 10)\n",
    "    if(rev == num):\n",
    "        return True\n",
    "    else: \n",
    "        return False\n",
    "\n",
    "numbers = []\n",
    "pal = False\n",
    "for i in range(1000, 99, -1):\n",
    "    for j in range(1000, 99, -1):\n",
    "        k = i*j\n",
    "        if(isPalindrome(k)):\n",
    "            numbers.append(k)\n",
    "        else:\n",
    "            continue\n",
    "max(numbers)"
   ]
  },
  {
   "cell_type": "code",
   "execution_count": null,
   "metadata": {
    "collapsed": true
   },
   "outputs": [],
   "source": []
  }
 ],
 "metadata": {
  "kernelspec": {
   "display_name": "Python 3",
   "language": "python",
   "name": "python3"
  },
  "language_info": {
   "codemirror_mode": {
    "name": "ipython",
    "version": 3
   },
   "file_extension": ".py",
   "mimetype": "text/x-python",
   "name": "python",
   "nbconvert_exporter": "python",
   "pygments_lexer": "ipython3",
   "version": "3.6.0"
  }
 },
 "nbformat": 4,
 "nbformat_minor": 2
}

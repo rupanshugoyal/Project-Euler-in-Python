{
 "cells": [
  {
   "cell_type": "code",
   "execution_count": null,
   "metadata": {
    "collapsed": true
   },
   "outputs": [],
   "source": [
    "#problem 40 An irrational decimal fraction is created by concatenating the positive integers:\n",
    "\n",
    "#        0.123456789101112131415161718192021...\n",
    "\n",
    "#It can be seen that the 12th digit of the fractional part is 1.\n",
    "\n",
    "#If dn represents the nth digit of the fractional part, find the value of the following expression.\n",
    "\n",
    "#        d1 × d10 × d100 × d1000 × d10000 × d100000 × d1000000"
   ]
  },
  {
   "cell_type": "code",
   "execution_count": 2,
   "metadata": {
    "collapsed": false
   },
   "outputs": [
    {
     "name": "stdout",
     "output_type": "stream",
     "text": [
      "210\n"
     ]
    }
   ],
   "source": [
    "D = \"\"\n",
    "for i in range(0, 500000):\n",
    "    D += str(i)\n",
    "    \n",
    "value = int(D[1])*int(D[10])*int(D[100])*int(D[1000])*int(D[10000])*int(D[100000])*int(D[1000000])\n",
    "print(value)"
   ]
  }
 ],
 "metadata": {
  "kernelspec": {
   "display_name": "Python 3",
   "language": "python",
   "name": "python3"
  },
  "language_info": {
   "codemirror_mode": {
    "name": "ipython",
    "version": 3
   },
   "file_extension": ".py",
   "mimetype": "text/x-python",
   "name": "python",
   "nbconvert_exporter": "python",
   "pygments_lexer": "ipython3",
   "version": "3.6.0"
  }
 },
 "nbformat": 4,
 "nbformat_minor": 2
}

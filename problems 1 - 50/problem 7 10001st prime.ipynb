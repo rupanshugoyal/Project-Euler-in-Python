{
 "cells": [
  {
   "cell_type": "code",
   "execution_count": null,
   "metadata": {
    "collapsed": true
   },
   "outputs": [],
   "source": [
    "# problem 7: By listing the first six prime numbers: 2, 3, 5, 7, 11, and 13, we can see that the 6th prime is 13.\n",
    "\n",
    "#What is the 10001st prime number?"
   ]
  },
  {
   "cell_type": "code",
   "execution_count": 1,
   "metadata": {
    "collapsed": true
   },
   "outputs": [],
   "source": [
    "number = 99999999\n",
    "#seive of eratosthenes\n",
    "primes = {}\n",
    "primes[1] = 1\n",
    "primes[2] = 1 #prime[i] = 1 => prime else => not prime\n",
    "for i in range (2, number):\n",
    "    primes[i] = 1\n",
    "\n",
    "for i in range(2, number):\n",
    "    if(primes[i] == 1):\n",
    "        j = 2\n",
    "        while(1):\n",
    "            if(i*j > number):\n",
    "                break\n",
    "            primes[i*j] = 0\n",
    "            j = j + 1\n",
    "    i = i + 1\n",
    "    "
   ]
  },
  {
   "cell_type": "code",
   "execution_count": 12,
   "metadata": {
    "collapsed": false
   },
   "outputs": [
    {
     "name": "stdout",
     "output_type": "stream",
     "text": [
      "104743\n"
     ]
    }
   ],
   "source": [
    "count = 0\n",
    "for i in range(2, number):\n",
    "    if(primes[i] == 1):\n",
    "        count = count + 1\n",
    "        #print (count, i)\n",
    "    if(count == 10001):\n",
    "        print(i)\n",
    "        break"
   ]
  },
  {
   "cell_type": "code",
   "execution_count": null,
   "metadata": {
    "collapsed": true
   },
   "outputs": [],
   "source": []
  }
 ],
 "metadata": {
  "kernelspec": {
   "display_name": "Python 3",
   "language": "python",
   "name": "python3"
  },
  "language_info": {
   "codemirror_mode": {
    "name": "ipython",
    "version": 3
   },
   "file_extension": ".py",
   "mimetype": "text/x-python",
   "name": "python",
   "nbconvert_exporter": "python",
   "pygments_lexer": "ipython3",
   "version": "3.6.0"
  }
 },
 "nbformat": 4,
 "nbformat_minor": 2
}

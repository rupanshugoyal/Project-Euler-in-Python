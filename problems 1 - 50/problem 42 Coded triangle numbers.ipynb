{
 "cells": [
  {
   "cell_type": "code",
   "execution_count": null,
   "metadata": {
    "collapsed": true
   },
   "outputs": [],
   "source": [
    "#problem 42 The nth term of the sequence of triangle numbers is given by, tn = ½n(n+1); so the first ten triangle numbers are:\n",
    "\n",
    "#        1, 3, 6, 10, 15, 21, 28, 36, 45, 55, ...\n",
    "\n",
    "#By converting each letter in a word to a number corresponding to its alphabetical position and \n",
    "#adding these values we form a word value. For example, the word value for SKY is 19 + 11 + 25 = 55 = t10. \n",
    "#If the word value is a triangle number then we shall call the word a triangle word.\n",
    "\n",
    "#Using words.txt (right click and 'Save Link/Target As...'), a 16K text file containing nearly two-thousand common English words,\n",
    "#how many are triangle words?"
   ]
  },
  {
   "cell_type": "code",
   "execution_count": 20,
   "metadata": {
    "collapsed": false
   },
   "outputs": [],
   "source": [
    "trilist = []\n",
    "trilimit = 40\n",
    "for i in range(1, trilimit+1):\n",
    "    trilist.append(int(i*(i+1)/2))\n",
    "    \n",
    "score = {\n",
    "    'A': 1,    'B': 2,    'C': 3,    'D': 4,    'E': 5,    'F': 6,    'G': 7,    'H': 8,\n",
    "    'I': 9,    'J': 10,    'K': 11,    'L': 12,    'M': 13,    'N': 14,    'O': 15,    'P': 16, \n",
    "    'Q': 17,    'R': 18,    'S': 19,    'T': 20,    'U': 21,    'V': 22,    'W': 23,    'X': 24,\n",
    "    'Y': 25,    'Z': 26}"
   ]
  },
  {
   "cell_type": "code",
   "execution_count": 21,
   "metadata": {
    "collapsed": false
   },
   "outputs": [
    {
     "name": "stdout",
     "output_type": "stream",
     "text": [
      "162\n"
     ]
    }
   ],
   "source": [
    "p42 = open(\"problem 42 words.txt\" , 'r')\n",
    "data = p42.read()\n",
    "data = data.split(\",\")\n",
    "tricount = 0\n",
    "for word in data:\n",
    "    word = word[1:-1]\n",
    "    wordscore = 0\n",
    "    for i in range(0, len(word)):\n",
    "        wordscore += score[word[i]]\n",
    "    if(wordscore in trilist):\n",
    "        tricount+=1\n",
    "print(tricount)\n",
    "p42.close()"
   ]
  },
  {
   "cell_type": "code",
   "execution_count": null,
   "metadata": {
    "collapsed": true
   },
   "outputs": [],
   "source": []
  }
 ],
 "metadata": {
  "kernelspec": {
   "display_name": "Python 3",
   "language": "python",
   "name": "python3"
  },
  "language_info": {
   "codemirror_mode": {
    "name": "ipython",
    "version": 3
   },
   "file_extension": ".py",
   "mimetype": "text/x-python",
   "name": "python",
   "nbconvert_exporter": "python",
   "pygments_lexer": "ipython3",
   "version": "3.6.0"
  }
 },
 "nbformat": 4,
 "nbformat_minor": 2
}

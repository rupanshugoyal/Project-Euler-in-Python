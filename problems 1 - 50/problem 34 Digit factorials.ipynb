{
 "cells": [
  {
   "cell_type": "code",
   "execution_count": 1,
   "metadata": {
    "collapsed": true
   },
   "outputs": [],
   "source": [
    "#problem 34 145 is a curious number, as 1! + 4! + 5! = 1 + 24 + 120 = 145.\n",
    "\n",
    "#Find the sum of all numbers which are equal to the sum of the factorial of their digits.\n",
    "\n",
    "#Note: as 1! = 1 and 2! = 2 are not sums they are not included."
   ]
  },
  {
   "cell_type": "code",
   "execution_count": 7,
   "metadata": {
    "collapsed": false
   },
   "outputs": [],
   "source": [
    "fact= {\n",
    "    0: 1,\n",
    "    1: 1,\n",
    "    2: 2,\n",
    "    3: 6,\n",
    "    4: 24,\n",
    "    5: 120,\n",
    "    6: 720,\n",
    "    7: 5040,\n",
    "    8: 40320,\n",
    "    9: 362880,\n",
    "}\n",
    "\n",
    "def getdigits(num):\n",
    "    return list(map(int , list(str(num))))\n"
   ]
  },
  {
   "cell_type": "code",
   "execution_count": 14,
   "metadata": {
    "collapsed": false
   },
   "outputs": [
    {
     "data": {
      "text/plain": [
       "40730"
      ]
     },
     "execution_count": 14,
     "metadata": {},
     "output_type": "execute_result"
    }
   ],
   "source": [
    "Clist = []\n",
    "value = 0\n",
    "for i in range(10, 1000000):\n",
    "    value = 0\n",
    "    for digit in getdigits(i):\n",
    "        value += fact[digit]\n",
    "    if(value == i):\n",
    "        Clist.append(i)\n",
    "sum(Clist)"
   ]
  },
  {
   "cell_type": "code",
   "execution_count": 15,
   "metadata": {
    "collapsed": false
   },
   "outputs": [
    {
     "data": {
      "text/plain": [
       "[145, 40585]"
      ]
     },
     "execution_count": 15,
     "metadata": {},
     "output_type": "execute_result"
    }
   ],
   "source": [
    "Clist"
   ]
  },
  {
   "cell_type": "code",
   "execution_count": null,
   "metadata": {
    "collapsed": true
   },
   "outputs": [],
   "source": []
  }
 ],
 "metadata": {
  "kernelspec": {
   "display_name": "Python 3",
   "language": "python",
   "name": "python3"
  },
  "language_info": {
   "codemirror_mode": {
    "name": "ipython",
    "version": 3
   },
   "file_extension": ".py",
   "mimetype": "text/x-python",
   "name": "python",
   "nbconvert_exporter": "python",
   "pygments_lexer": "ipython3",
   "version": "3.6.0"
  }
 },
 "nbformat": 4,
 "nbformat_minor": 2
}

{
 "cells": [
  {
   "cell_type": "code",
   "execution_count": null,
   "metadata": {
    "collapsed": true
   },
   "outputs": [],
   "source": [
    "# problem 27 Euler discovered the remarkable quadratic formula:\n",
    "\n",
    "#n^2+n+41\n",
    "#It turns out that the formula will produce 40 primes for the consecutive integer values 0≤n≤39. \n",
    "#However, when n=40,402+40+41=40(40+1)+41 is divisible by 41, and certainly when n=41,412+41+41 is clearly divisible by 41.\n",
    "\n",
    "#The incredible formula n2−79n+1601 was discovered, which produces 80 primes for the consecutive values 0≤n≤79. \n",
    "#The product of the coefficients, −79 and 1601, is −126479.\n",
    "\n",
    "#Considering quadratics of the form:\n",
    "\n",
    "#n^2+an+b, where |a|<1000 and |b|≤1000\n",
    "\n",
    "#where |n| is the modulus/absolute value of n\n",
    "#e.g. |11|=11 and |−4|=4\n",
    "#Find the product of the coefficients, a and b, for the quadratic expression that produces the maximum number of primes \n",
    "#for consecutive values of n, starting with n=0."
   ]
  },
  {
   "cell_type": "code",
   "execution_count": 38,
   "metadata": {
    "collapsed": false
   },
   "outputs": [],
   "source": [
    "# seive of ertosthenes\n",
    "number = 2000001\n",
    "primes = {}\n",
    "primes[1] = 1\n",
    "primes[2] = 1 # prime[i] = 1 => prime else => not prime\n",
    "for i in range (2, number):\n",
    "    primes[i] = 1\n",
    "\n",
    "for i in range(2, number):\n",
    "    if(primes[i] == 1):\n",
    "        j = 2\n",
    "        while(1):\n",
    "            if(i*j > number):\n",
    "                break\n",
    "            primes[i*j] = 0\n",
    "            j = j + 1\n",
    "    i = i + 1"
   ]
  },
  {
   "cell_type": "code",
   "execution_count": 49,
   "metadata": {
    "collapsed": false
   },
   "outputs": [
    {
     "name": "stdout",
     "output_type": "stream",
     "text": [
      "-59231\n"
     ]
    }
   ],
   "source": [
    "count = 0\n",
    "maxcount = 0\n",
    "maxcountprod = 1\n",
    "for a in range(-999 , 1000 , 1):\n",
    "    for b in range(-1000, 1001 , 1):\n",
    "        n = 0\n",
    "        while(True):\n",
    "            value = n*(n + a) + b\n",
    "            n += 1\n",
    "            if(value > 0 and primes[value] == 1):\n",
    "                count += 1\n",
    "                #print(\"incremented\")\n",
    "            else:\n",
    "                break\n",
    "        if(maxcount < count):\n",
    "            maxcount = count\n",
    "            maxcountprod = a*b\n",
    "        count = 0\n",
    "print(maxcountprod)"
   ]
  }
 ],
 "metadata": {
  "kernelspec": {
   "display_name": "Python 3",
   "language": "python",
   "name": "python3"
  },
  "language_info": {
   "codemirror_mode": {
    "name": "ipython",
    "version": 3
   },
   "file_extension": ".py",
   "mimetype": "text/x-python",
   "name": "python",
   "nbconvert_exporter": "python",
   "pygments_lexer": "ipython3",
   "version": "3.6.0"
  }
 },
 "nbformat": 4,
 "nbformat_minor": 2
}

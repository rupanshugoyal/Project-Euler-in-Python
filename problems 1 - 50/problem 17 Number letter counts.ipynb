{
 "cells": [
  {
   "cell_type": "code",
   "execution_count": null,
   "metadata": {
    "collapsed": true
   },
   "outputs": [],
   "source": [
    "#problem 17 If the numbers 1 to 5 are written out in words: one, two, three, four, five, then there are \n",
    "#   3 + 3 + 5 + 4 + 4 = 19 letters used in total.\n",
    "\n",
    "#If all the numbers from 1 to 1000 (one thousand) inclusive were written out in words, how many letters would be used?\n",
    "\n",
    "\n",
    "#NOTE: Do not count spaces or hyphens. For example, 342 (three hundred and forty-two) contains 23 letters \n",
    "#    and 115 (one hundred and fifteen) contains 20 letters. \n",
    "#    The use of \"and\" when writing out numbers is in compliance with British usage."
   ]
  },
  {
   "cell_type": "code",
   "execution_count": null,
   "metadata": {
    "collapsed": false
   },
   "outputs": [],
   "source": [
    "hundreddict = {}\n",
    "hundreddict[0] = \"zero\"\n",
    "hundreddict[1] = \"one\"\n",
    "hundreddict[2] = \"two\"\n",
    "hundreddict[3] = \"three\"\n",
    "hundreddict[4] = \"four\"\n",
    "hundreddict[5] = \"five\"\n",
    "hundreddict[6] = \"six\"\n",
    "hundreddict[7] = \"seven\"\n",
    "hundreddict[8] = \"eight\"\n",
    "hundreddict[9] = \"nine\"\n",
    "hundreddict[10] = \"ten\"\n",
    "hundreddict[11] = \"eleven\"\n",
    "hundreddict[12] = \"twelve\"\n",
    "hundreddict[13] = \"thirteen\"\n",
    "hundreddict[14] = \"fourteen\"\n",
    "hundreddict[15] = \"fifteen\"\n",
    "hundreddict[16] = \"sixteen\"\n",
    "hundreddict[17] = \"seventeen\"\n",
    "hundreddict[18] = \"eighteen\"\n",
    "hundreddict[19] = \"nineteen\"\n",
    "hundreddict[20] = \"twenty\"\n",
    "hundreddict[30] = \"thirty\"\n",
    "hundreddict[40] = \"forty\"\n",
    "hundreddict[50] = \"fifty\"\n",
    "hundreddict[60] = \"sixty\"\n",
    "hundreddict[70] = \"seventy\"\n",
    "hundreddict[80] = \"eighty\"\n",
    "hundreddict[90] = \"ninety\"\n",
    "\n",
    "for i in range(21, 100):\n",
    "    if(i%10 != 0):\n",
    "        value = i\n",
    "        digits = []\n",
    "        while(value > 0):\n",
    "            digits.append(value%10)\n",
    "            value = int(value/10)\n",
    "        hundreddict[i] = hundreddict[digits[1]*10] + hundreddict[digits[0]]\n"
   ]
  },
  {
   "cell_type": "code",
   "execution_count": null,
   "metadata": {
    "collapsed": false
   },
   "outputs": [],
   "source": [
    "hundreddict"
   ]
  },
  {
   "cell_type": "code",
   "execution_count": null,
   "metadata": {
    "collapsed": true
   },
   "outputs": [],
   "source": [
    "def nameof(num): \n",
    "    digits = []\n",
    "    name = \"\"\n",
    "    value = num\n",
    "    while(num > 0):\n",
    "        digits.append(num%10)\n",
    "        num = int(num / 10)\n",
    "        \n",
    "    name = hundreddict[digits[2]]+\"hundred\"\n",
    "    if(value%100 != 0):\n",
    "        name += \"and\"+hundreddict[int(str(digits[1])+str(digits[0]))]\n",
    "    return name"
   ]
  },
  {
   "cell_type": "code",
   "execution_count": null,
   "metadata": {
    "collapsed": false
   },
   "outputs": [],
   "source": [
    "namedict = {}\n",
    "\n",
    "for i in range(1, 100):\n",
    "    namedict[i] = hundreddict[i]\n",
    "    \n",
    "for i in range(100, 1000):\n",
    "    namedict[i] = nameof(i)\n",
    "    \n",
    "namedict[1000] = \"onethousand\"\n",
    "\n",
    "sumofstring = 0\n",
    "for i in namedict.keys():\n",
    "    sumofstring += len(namedict[i])\n"
   ]
  },
  {
   "cell_type": "code",
   "execution_count": 57,
   "metadata": {
    "collapsed": false
   },
   "outputs": [
    {
     "name": "stdout",
     "output_type": "stream",
     "text": [
      "21124\n"
     ]
    }
   ],
   "source": [
    "print(sumofstring)"
   ]
  },
  {
   "cell_type": "code",
   "execution_count": null,
   "metadata": {
    "collapsed": true
   },
   "outputs": [],
   "source": []
  }
 ],
 "metadata": {
  "kernelspec": {
   "display_name": "Python 3",
   "language": "python",
   "name": "python3"
  },
  "language_info": {
   "codemirror_mode": {
    "name": "ipython",
    "version": 3
   },
   "file_extension": ".py",
   "mimetype": "text/x-python",
   "name": "python",
   "nbconvert_exporter": "python",
   "pygments_lexer": "ipython3",
   "version": "3.6.0"
  }
 },
 "nbformat": 4,
 "nbformat_minor": 2
}

{
 "cells": [
  {
   "cell_type": "code",
   "execution_count": null,
   "metadata": {
    "collapsed": true
   },
   "outputs": [],
   "source": [
    "#problem 37 The number 3797 has an interesting property. Being prime itself, \n",
    "#it is possible to continuously remove digits from left to right, and remain prime at each stage: \n",
    "#    3797, 797, 97, and 7. Similarly we can work from right to left: 3797, 379, 37, and 3.\n",
    "\n",
    "#Find the sum of the only eleven primes that are both truncatable from left to right and right to left.\n",
    "\n",
    "#NOTE: 2, 3, 5, and 7 are not considered to be truncatable primes."
   ]
  },
  {
   "cell_type": "code",
   "execution_count": 9,
   "metadata": {
    "collapsed": true
   },
   "outputs": [],
   "source": [
    "def generateset(no):\n",
    "    tset = set()\n",
    "    numstr = str(no)\n",
    "    tset.add(no)\n",
    "    for i in range(1, len(numstr)):\n",
    "        tset.add(int(numstr[i:]))\n",
    "        tset.add(int(numstr[:-i]))\n",
    "    return tset"
   ]
  },
  {
   "cell_type": "code",
   "execution_count": 11,
   "metadata": {
    "collapsed": true
   },
   "outputs": [],
   "source": [
    "number = 10000000\n",
    "primes = {}\n",
    "primes[0] = 0\n",
    "primes[1] = 0\n",
    "primes[2] = 1 # prime[i] = 1 => prime else => not prime\n",
    "for i in range (2, number):\n",
    "    primes[i] = 1\n",
    "\n",
    "for i in range(2, number):\n",
    "    if(primes[i] == 1):\n",
    "        j = 2\n",
    "        while(1):\n",
    "            if(i*j > number):\n",
    "                break\n",
    "            primes[i*j] = 0\n",
    "            j = j + 1\n",
    "    i = i + 1"
   ]
  },
  {
   "cell_type": "code",
   "execution_count": 21,
   "metadata": {
    "collapsed": false
   },
   "outputs": [
    {
     "data": {
      "text/plain": [
       "748317"
      ]
     },
     "execution_count": 21,
     "metadata": {},
     "output_type": "execute_result"
    }
   ],
   "source": [
    "special = []\n",
    "counter = 10\n",
    "while(len(special) != 11):\n",
    "    if(primes[counter] == 1):\n",
    "        truncated = generateset(counter)\n",
    "        boolvalue = True\n",
    "        for element in truncated:\n",
    "            if(primes[element] != 1):\n",
    "                boolvalue = False\n",
    "        if(boolvalue):\n",
    "            special.append(counter)\n",
    "    counter += 1\n",
    "sum(special)"
   ]
  },
  {
   "cell_type": "code",
   "execution_count": 22,
   "metadata": {
    "collapsed": false
   },
   "outputs": [
    {
     "data": {
      "text/plain": [
       "[23, 37, 53, 73, 313, 317, 373, 797, 3137, 3797, 739397]"
      ]
     },
     "execution_count": 22,
     "metadata": {},
     "output_type": "execute_result"
    }
   ],
   "source": [
    "special"
   ]
  }
 ],
 "metadata": {
  "kernelspec": {
   "display_name": "Python 3",
   "language": "python",
   "name": "python3"
  },
  "language_info": {
   "codemirror_mode": {
    "name": "ipython",
    "version": 3
   },
   "file_extension": ".py",
   "mimetype": "text/x-python",
   "name": "python",
   "nbconvert_exporter": "python",
   "pygments_lexer": "ipython3",
   "version": "3.6.0"
  }
 },
 "nbformat": 4,
 "nbformat_minor": 2
}

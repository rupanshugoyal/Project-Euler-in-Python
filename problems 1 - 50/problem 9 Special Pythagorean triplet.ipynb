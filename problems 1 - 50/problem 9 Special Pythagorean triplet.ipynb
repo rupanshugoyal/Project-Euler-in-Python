{
 "cells": [
  {
   "cell_type": "code",
   "execution_count": null,
   "metadata": {
    "collapsed": true
   },
   "outputs": [],
   "source": [
    "#problem 9: A Pythagorean triplet is a set of three natural numbers, a < b < c, for which,\n",
    "\n",
    "#    a^2 + b^2 = c^2\n",
    "#For example, 3^2 + 4^2 = 9 + 16 = 25 = 5^2.\n",
    "\n",
    "#There exists exactly one Pythagorean triplet for which a + b + c = 1000.\n",
    "#Find the product abc."
   ]
  },
  {
   "cell_type": "code",
   "execution_count": 11,
   "metadata": {
    "collapsed": false
   },
   "outputs": [
    {
     "name": "stdout",
     "output_type": "stream",
     "text": [
      "200 375 425.0 31875000.0\n",
      "375 200 425.0 31875000.0\n"
     ]
    }
   ],
   "source": [
    "import math as M\n",
    "c = 0\n",
    "for a in range(1, 999):\n",
    "    for b in range(2, 1000):\n",
    "        c = M.sqrt(a*a + b*b)\n",
    "        if(a+b+c == 1000):\n",
    "            print(a,b,c, a*b*c)"
   ]
  },
  {
   "cell_type": "code",
   "execution_count": null,
   "metadata": {
    "collapsed": true
   },
   "outputs": [],
   "source": []
  }
 ],
 "metadata": {
  "kernelspec": {
   "display_name": "Python 3",
   "language": "python",
   "name": "python3"
  },
  "language_info": {
   "codemirror_mode": {
    "name": "ipython",
    "version": 3
   },
   "file_extension": ".py",
   "mimetype": "text/x-python",
   "name": "python",
   "nbconvert_exporter": "python",
   "pygments_lexer": "ipython3",
   "version": "3.6.0"
  }
 },
 "nbformat": 4,
 "nbformat_minor": 2
}

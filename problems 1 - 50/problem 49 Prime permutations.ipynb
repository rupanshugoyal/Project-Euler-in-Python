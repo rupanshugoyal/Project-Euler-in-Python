{
 "cells": [
  {
   "cell_type": "code",
   "execution_count": null,
   "metadata": {
    "collapsed": true
   },
   "outputs": [],
   "source": [
    "#problem 49 The arithmetic sequence, 1487, 4817, 8147, in which each of the terms increases by 3330, is unusual in two ways: \n",
    "#    (i) each of the three terms are prime, and, \n",
    "#    (ii) each of the 4-digit numbers are permutations of one another.\n",
    "\n",
    "#There are no arithmetic sequences made up of three 1-, 2-, or 3-digit primes, exhibiting this property, \n",
    "#but there is one other 4-digit increasing sequence.\n",
    "\n",
    "#What 12-digit number do you form by concatenating the three terms in this sequence?"
   ]
  },
  {
   "cell_type": "code",
   "execution_count": 2,
   "metadata": {
    "collapsed": false
   },
   "outputs": [],
   "source": [
    "import itertools as it\n",
    "number = 10000\n",
    "primes = {}\n",
    "primes[1] = 0\n",
    "primes[2] = 1 # prime[i] = 1 => prime else => not prime\n",
    "for i in range (2, number):\n",
    "    primes[i] = 1\n",
    "\n",
    "for i in range(2, number):\n",
    "    if(primes[i] == 1):\n",
    "        j = 2\n",
    "        while(1):\n",
    "            if(i*j > number):\n",
    "                break\n",
    "            primes[i*j] = 0\n",
    "            j = j + 1\n",
    "    i = i + 1\n",
    "primeslist = []\n",
    "for i in range(1000, number):\n",
    "    if(primes[i] == 1):\n",
    "        primeslist.append(i)\n",
    "#formed a list of primes of 4 digits nos"
   ]
  },
  {
   "cell_type": "code",
   "execution_count": 3,
   "metadata": {
    "collapsed": false
   },
   "outputs": [
    {
     "data": {
      "text/plain": [
       "1061"
      ]
     },
     "execution_count": 3,
     "metadata": {},
     "output_type": "execute_result"
    }
   ],
   "source": [
    "len(primeslist)"
   ]
  },
  {
   "cell_type": "code",
   "execution_count": 11,
   "metadata": {
    "collapsed": true
   },
   "outputs": [],
   "source": [
    "#define a method to get sort list of permutations of a num with only prime nos\n",
    "def function(num):\n",
    "    allpermutations = list(it.permutations(str(num)))\n",
    "    listofnos = []\n",
    "    for element in allpermutations:\n",
    "        numstr = \"\".join([x for x in element])\n",
    "        numstr = int(numstr)\n",
    "        if(numstr in primeslist):\n",
    "            listofnos.append(numstr)\n",
    "    return listofnos"
   ]
  },
  {
   "cell_type": "code",
   "execution_count": 17,
   "metadata": {
    "collapsed": false
   },
   "outputs": [
    {
     "name": "stdout",
     "output_type": "stream",
     "text": [
      "148748178147\n",
      "296962999629\n",
      "296962999629\n",
      "296962999629\n",
      "296962999629\n",
      "296962999629\n",
      "296962999629\n",
      "296962999629\n",
      "296962999629\n",
      "296962999629\n",
      "296962999629\n",
      "296962999629\n",
      "296962999629\n",
      "148748178147\n",
      "296962999629\n",
      "296962999629\n",
      "296962999629\n",
      "296962999629\n"
     ]
    }
   ],
   "source": [
    "answer = \"\"\n",
    "for i in range(1488, 10000):\n",
    "    if(i != 1487 and i!=4817 and i!=8147):\n",
    "        perlist = function(i)\n",
    "        if(len(perlist)>=3):\n",
    "            comblist = it.combinations(perlist, 3)\n",
    "            for comb in comblist:\n",
    "                diff1 = comb[1]-comb[0]\n",
    "                diff2 = comb[2]-comb[1] \n",
    "                if(diff1 == diff2 and diff1 > 0 and comb[0]!=comb[1] and comb[1]!=comb[2]):\n",
    "                    answer = str(comb[0]) + str(comb[1]) + str(comb[2])\n",
    "                    print(answer)"
   ]
  }
 ],
 "metadata": {
  "kernelspec": {
   "display_name": "Python 3",
   "language": "python",
   "name": "python3"
  },
  "language_info": {
   "codemirror_mode": {
    "name": "ipython",
    "version": 3
   },
   "file_extension": ".py",
   "mimetype": "text/x-python",
   "name": "python",
   "nbconvert_exporter": "python",
   "pygments_lexer": "ipython3",
   "version": "3.6.0"
  }
 },
 "nbformat": 4,
 "nbformat_minor": 2
}

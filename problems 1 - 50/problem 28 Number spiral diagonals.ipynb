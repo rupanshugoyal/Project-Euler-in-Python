{
 "cells": [
  {
   "cell_type": "code",
   "execution_count": null,
   "metadata": {
    "collapsed": true
   },
   "outputs": [],
   "source": [
    "#problem 28 Starting with the number 1 and moving to the right in a clockwise direction a 5 by 5 spiral is formed as follows:\n",
    "\n",
    "#        21 22 23 24 25\n",
    "#        20  7  8  9 10\n",
    "#        19  6  1  2 11\n",
    "#        18  5  4  3 12\n",
    "#        17 16 15 14 13\n",
    "\n",
    "#It can be verified that the sum of the numbers on the diagonals is 101.\n",
    "\n",
    "#What is the sum of the numbers on the diagonals in a 1001 by 1001 spiral formed in the same way?"
   ]
  },
  {
   "cell_type": "code",
   "execution_count": 47,
   "metadata": {
    "collapsed": false
   },
   "outputs": [
    {
     "name": "stdout",
     "output_type": "stream",
     "text": [
      "669171001\n"
     ]
    }
   ],
   "source": [
    "#direction 0 -> RIGHT CHECK [I+1][j]\n",
    "#            1 -> DOWN CHECK [I][J-1]\n",
    "#            2 -> LEFT CHECK [I-1][J]\n",
    "#            3 -> UP CHECK [I][J+1]\n",
    "            \n",
    "import numpy as np\n",
    "direction = 0\n",
    "dim = 1001\n",
    "M = np.zeros([dim,dim], 'int')\n",
    "i = j = int((dim-1)/2) #starting point\n",
    "number = 1\n",
    "M[i][j] = number\n",
    "while(number < dim*dim):\n",
    "    if(direction == 0): #move right\n",
    "        while(number < dim*dim):\n",
    "            j = j+1\n",
    "            number += 1\n",
    "            M[i][j] = number\n",
    "            if(M[i+1][j] == 0): #change dir\n",
    "                direction = 1\n",
    "                break\n",
    "    elif(direction == 1): #move down\n",
    "        while(number < dim*dim):\n",
    "            i=i+1\n",
    "            number += 1\n",
    "            M[i][j] = number\n",
    "            if(M[i][j-1] == 0):\n",
    "                direction = 2\n",
    "                break\n",
    "    elif(direction == 2): #move left\n",
    "        while(number < dim*dim):\n",
    "            j = j-1\n",
    "            number += 1\n",
    "            M[i][j] = number\n",
    "            if(M[i-1][j] == 0):\n",
    "                direction = 3\n",
    "                break\n",
    "    elif(direction == 3): #move up\n",
    "        while(number < dim*dim):\n",
    "            i = i-1\n",
    "            number += 1\n",
    "            M[i][j] = number\n",
    "            if(M[i][j+1] == 0):\n",
    "                direction = 0\n",
    "                break\n",
    "\n",
    "s = 0\n",
    "i = 0\n",
    "j = 0\n",
    "for i in range(0 , dim):\n",
    "    s+= M[i][j]\n",
    "    s+= M[i][dim - j - 1]\n",
    "    k-=1\n",
    "    j+=1\n",
    "print(s-1)    "
   ]
  },
  {
   "cell_type": "code",
   "execution_count": 48,
   "metadata": {
    "collapsed": false
   },
   "outputs": [
    {
     "data": {
      "text/plain": [
       "array([[1001001, 1001002, 1001003, ..., 1001999, 1002000, 1002001],\n",
       "       [1001000,  997003,  997004, ...,  998000,  998001,  998002],\n",
       "       [1000999,  997002,  993013, ...,  994009,  994010,  998003],\n",
       "       ..., \n",
       "       [1000003,  996006,  992017, ...,  991021,  995006,  998999],\n",
       "       [1000002,  996005,  996004, ...,  995008,  995007,  999000],\n",
       "       [1000001, 1000000,  999999, ...,  999003,  999002,  999001]])"
      ]
     },
     "execution_count": 48,
     "metadata": {},
     "output_type": "execute_result"
    }
   ],
   "source": [
    "M"
   ]
  }
 ],
 "metadata": {
  "kernelspec": {
   "display_name": "Python 3",
   "language": "python",
   "name": "python3"
  },
  "language_info": {
   "codemirror_mode": {
    "name": "ipython",
    "version": 3
   },
   "file_extension": ".py",
   "mimetype": "text/x-python",
   "name": "python",
   "nbconvert_exporter": "python",
   "pygments_lexer": "ipython3",
   "version": "3.6.0"
  }
 },
 "nbformat": 4,
 "nbformat_minor": 2
}

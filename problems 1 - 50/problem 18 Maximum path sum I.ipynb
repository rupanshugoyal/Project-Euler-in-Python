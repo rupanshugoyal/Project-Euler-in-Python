{
 "cells": [
  {
   "cell_type": "code",
   "execution_count": null,
   "metadata": {
    "collapsed": true
   },
   "outputs": [],
   "source": [
    "#problem 18 By starting at the top of the triangle below and moving to adjacent numbers on the row below, the maximum total from top to bottom is 23.\n",
    "\n",
    "3\n",
    "7 4\n",
    "2 4 6\n",
    "8 5 9 3\n",
    "\n",
    "#That is, 3 + 7 + 4 + 9 = 23.\n",
    "\n",
    "#Find the maximum total from top to bottom of the triangle below:\n",
    "\n",
    "75\n",
    "95 64\n",
    "17 47 82\n",
    "18 35 87 10\n",
    "20 04 82 47 65\n",
    "19 01 23 75 03 34\n",
    "88 02 77 73 07 63 67\n",
    "99 65 04 28 06 16 70 92\n",
    "41 41 26 56 83 40 80 70 33\n",
    "41 48 72 33 47 32 37 16 94 29\n",
    "53 71 44 65 25 43 91 52 97 51 14\n",
    "70 11 33 28 77 73 17 78 39 68 17 57\n",
    "91 71 52 38 17 14 91 43 58 50 27 29 48\n",
    "63 66 04 68 89 53 67 30 73 16 69 87 40 31\n",
    "04 62 98 27 23 09 70 98 73 93 38 53 60 04 23\n",
    "\n",
    "#NOTE: As there are only 16384 routes, it is possible to solve this problem by trying every route. However, Problem 67, is the same \n",
    "#challenge with a triangle containing one-hundred rows; it cannot be solved by brute force, and requires a clever method! ;o)"
   ]
  },
  {
   "cell_type": "code",
   "execution_count": 20,
   "metadata": {
    "collapsed": false
   },
   "outputs": [
    {
     "name": "stdout",
     "output_type": "stream",
     "text": [
      "[(75, 0)] \n",
      "\n",
      "[(95, 0), (64, 0)] \n",
      "\n",
      "[(17, 0), (47, 0), (82, 0)] \n",
      "\n",
      "[(18, 0), (35, 0), (87, 0), (10, 0)] \n",
      "\n",
      "[(20, 0), (4, 0), (82, 0), (47, 0), (65, 0)] \n",
      "\n",
      "[(19, 0), (1, 0), (23, 0), (75, 0), (3, 0), (34, 0)] \n",
      "\n",
      "[(88, 0), (2, 0), (77, 0), (73, 0), (7, 0), (63, 0), (67, 0)] \n",
      "\n",
      "[(99, 0), (65, 0), (4, 0), (28, 0), (6, 0), (16, 0), (70, 0), (92, 0)] \n",
      "\n",
      "[(41, 0), (41, 0), (26, 0), (56, 0), (83, 0), (40, 0), (80, 0), (70, 0), (33, 0)] \n",
      "\n",
      "[(41, 0), (48, 0), (72, 0), (33, 0), (47, 0), (32, 0), (37, 0), (16, 0), (94, 0), (29, 0)] \n",
      "\n",
      "[(53, 0), (71, 0), (44, 0), (65, 0), (25, 0), (43, 0), (91, 0), (52, 0), (97, 0), (51, 0), (14, 0)] \n",
      "\n",
      "[(70, 0), (11, 0), (33, 0), (28, 0), (77, 0), (73, 0), (17, 0), (78, 0), (39, 0), (68, 0), (17, 0), (57, 0)] \n",
      "\n",
      "[(91, 0), (71, 0), (52, 0), (38, 0), (17, 0), (14, 0), (91, 0), (43, 0), (58, 0), (50, 0), (27, 0), (29, 0), (48, 0)] \n",
      "\n",
      "[(63, 0), (66, 0), (4, 0), (68, 0), (89, 0), (53, 0), (67, 0), (30, 0), (73, 0), (16, 0), (69, 0), (87, 0), (40, 0), (31, 0)] \n",
      "\n",
      "[(4, 4), (62, 62), (98, 98), (27, 27), (23, 23), (9, 9), (70, 70), (98, 98), (73, 73), (93, 93), (38, 38), (53, 53), (60, 60), (4, 4), (23, 23)] \n",
      "\n"
     ]
    }
   ],
   "source": [
    "tristring = \"\"\"75\n",
    "95 64\n",
    "17 47 82\n",
    "18 35 87 10\n",
    "20 04 82 47 65\n",
    "19 01 23 75 03 34\n",
    "88 02 77 73 07 63 67\n",
    "99 65 04 28 06 16 70 92\n",
    "41 41 26 56 83 40 80 70 33\n",
    "41 48 72 33 47 32 37 16 94 29\n",
    "53 71 44 65 25 43 91 52 97 51 14\n",
    "70 11 33 28 77 73 17 78 39 68 17 57\n",
    "91 71 52 38 17 14 91 43 58 50 27 29 48\n",
    "63 66 04 68 89 53 67 30 73 16 69 87 40 31\n",
    "04 62 98 27 23 09 70 98 73 93 38 53 60 04 23\"\"\"\n",
    "splitlists = tristring.split(\"\\n\")\n",
    "\n",
    "triangle = []\n",
    "tupledlist = []\n",
    "temptuple = ()\n",
    "for a in splitlists:\n",
    "    value = a.split(\" \")\n",
    "    for b in value:\n",
    "        temptuple = (int(b), 0)\n",
    "        tupledlist.append(temptuple)\n",
    "    triangle.append(tupledlist)\n",
    "    tupledlist=[]\n",
    "\n",
    "for lists in triangle:\n",
    "    print(lists,\"\\n\")"
   ]
  },
  {
   "cell_type": "code",
   "execution_count": 23,
   "metadata": {
    "collapsed": false
   },
   "outputs": [
    {
     "name": "stdout",
     "output_type": "stream",
     "text": [
      "1074\n"
     ]
    }
   ],
   "source": [
    "length = len(triangle)\n",
    "for i in range(len(triangle[length-1])):\n",
    "    value = triangle[length-1][i][0]\n",
    "    triangle[length-1][i] = (value , value)\n",
    "\n",
    "maxindex = 0\n",
    "for i in range(len(triangle)-2 , -1 , -1):\n",
    "    for j in range(len(triangle[i])):\n",
    "        triangle[i][j] = (triangle[i][j][0],max(triangle[i][j][0]+triangle[i+1][j][1],triangle[i][j][0]+triangle[i+1][j+1][1]))\n",
    "print(triangle[0][0][1])"
   ]
  },
  {
   "cell_type": "code",
   "execution_count": 26,
   "metadata": {
    "collapsed": false
   },
   "outputs": [
    {
     "data": {
      "text/plain": [
       "[[(75, 1074)],\n",
       " [(95, 995), (64, 999)],\n",
       " [(17, 818), (47, 900), (82, 935)],\n",
       " [(18, 704), (35, 801), (87, 853), (10, 792)],\n",
       " [(20, 686), (4, 640), (82, 766), (47, 731), (65, 782)],\n",
       " [(19, 666), (1, 614), (23, 636), (75, 684), (3, 660), (34, 717)],\n",
       " [(88, 647), (2, 501), (77, 613), (73, 609), (7, 533), (63, 657), (67, 683)],\n",
       " [(99, 559),\n",
       "  (65, 499),\n",
       "  (4, 479),\n",
       "  (28, 536),\n",
       "  (6, 514),\n",
       "  (16, 526),\n",
       "  (70, 594),\n",
       "  (92, 616)],\n",
       " [(41, 460),\n",
       "  (41, 434),\n",
       "  (26, 419),\n",
       "  (56, 475),\n",
       "  (83, 508),\n",
       "  (40, 470),\n",
       "  (80, 510),\n",
       "  (70, 524),\n",
       "  (33, 487)],\n",
       " [(41, 419),\n",
       "  (48, 365),\n",
       "  (72, 393),\n",
       "  (33, 387),\n",
       "  (47, 419),\n",
       "  (32, 425),\n",
       "  (37, 430),\n",
       "  (16, 376),\n",
       "  (94, 454),\n",
       "  (29, 322)],\n",
       " [(53, 378),\n",
       "  (71, 317),\n",
       "  (44, 231),\n",
       "  (65, 321),\n",
       "  (25, 354),\n",
       "  (43, 372),\n",
       "  (91, 393),\n",
       "  (52, 354),\n",
       "  (97, 360),\n",
       "  (51, 293),\n",
       "  (14, 247)],\n",
       " [(70, 325),\n",
       "  (11, 246),\n",
       "  (33, 187),\n",
       "  (28, 178),\n",
       "  (77, 256),\n",
       "  (73, 329),\n",
       "  (17, 273),\n",
       "  (78, 302),\n",
       "  (39, 263),\n",
       "  (68, 242),\n",
       "  (17, 193),\n",
       "  (57, 233)],\n",
       " [(91, 255),\n",
       "  (71, 235),\n",
       "  (52, 154),\n",
       "  (38, 150),\n",
       "  (17, 140),\n",
       "  (14, 179),\n",
       "  (91, 256),\n",
       "  (43, 209),\n",
       "  (58, 224),\n",
       "  (50, 172),\n",
       "  (27, 174),\n",
       "  (29, 176),\n",
       "  (48, 148)],\n",
       " [(63, 125),\n",
       "  (66, 164),\n",
       "  (4, 102),\n",
       "  (68, 95),\n",
       "  (89, 112),\n",
       "  (53, 123),\n",
       "  (67, 165),\n",
       "  (30, 128),\n",
       "  (73, 166),\n",
       "  (16, 109),\n",
       "  (69, 122),\n",
       "  (87, 147),\n",
       "  (40, 100),\n",
       "  (31, 54)],\n",
       " [(4, 4),\n",
       "  (62, 62),\n",
       "  (98, 98),\n",
       "  (27, 27),\n",
       "  (23, 23),\n",
       "  (9, 9),\n",
       "  (70, 70),\n",
       "  (98, 98),\n",
       "  (73, 73),\n",
       "  (93, 93),\n",
       "  (38, 38),\n",
       "  (53, 53),\n",
       "  (60, 60),\n",
       "  (4, 4),\n",
       "  (23, 23)]]"
      ]
     },
     "execution_count": 26,
     "metadata": {},
     "output_type": "execute_result"
    }
   ],
   "source": [
    "triangle"
   ]
  },
  {
   "cell_type": "code",
   "execution_count": null,
   "metadata": {
    "collapsed": true
   },
   "outputs": [],
   "source": []
  }
 ],
 "metadata": {
  "kernelspec": {
   "display_name": "Python 3",
   "language": "python",
   "name": "python3"
  },
  "language_info": {
   "codemirror_mode": {
    "name": "ipython",
    "version": 3
   },
   "file_extension": ".py",
   "mimetype": "text/x-python",
   "name": "python",
   "nbconvert_exporter": "python",
   "pygments_lexer": "ipython3",
   "version": "3.6.0"
  }
 },
 "nbformat": 4,
 "nbformat_minor": 2
}

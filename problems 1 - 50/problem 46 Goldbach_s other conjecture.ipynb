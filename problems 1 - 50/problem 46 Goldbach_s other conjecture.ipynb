{
 "cells": [
  {
   "cell_type": "code",
   "execution_count": null,
   "metadata": {
    "collapsed": true
   },
   "outputs": [],
   "source": [
    "#problem 46 It was proposed by Christian Goldbach that every odd composite number can be written as the sum of a prime \n",
    "#and twice a square.\n",
    "\n",
    "#        9 = 7 + 2×12\n",
    "#        15 = 7 + 2×22\n",
    "#        21 = 3 + 2×32\n",
    "#        25 = 7 + 2×32\n",
    "#        27 = 19 + 2×22\n",
    "#        33 = 31 + 2×12\n",
    "\n",
    "#It turns out that the conjecture was false.\n",
    "\n",
    "#What is the smallest odd composite that cannot be written as the sum of a prime and twice a square?"
   ]
  },
  {
   "cell_type": "code",
   "execution_count": null,
   "metadata": {
    "collapsed": true
   },
   "outputs": [],
   "source": [
    "number = 100000\n",
    "primes = {}\n",
    "primes[1] = 0\n",
    "primes[2] = 1 # prime[i] = 1 => prime else => not prime\n",
    "for i in range (2, number):\n",
    "    primes[i] = 1\n",
    "\n",
    "for i in range(2, number):\n",
    "    if(primes[i] == 1):\n",
    "        j = 2\n",
    "        while(1):\n",
    "            if(i*j > number):\n",
    "                break\n",
    "            primes[i*j] = 0\n",
    "            j = j + 1\n",
    "    i = i + 1\n",
    "primeslist = []\n",
    "for i in range(2, number):\n",
    "    if(primes[i] == 1):\n",
    "        primeslist.append(i)\n",
    "        \n",
    "squareslist = []\n",
    "for i in range(1, number):\n",
    "    squareslist.append(i*i)\n",
    "    \n",
    "def is_cgnum(num):\n",
    "    flag = False\n",
    "    for i in primeslist:\n",
    "        if((num-i)/2 in squareslist):\n",
    "            flag = True\n",
    "            break\n",
    "    return flag"
   ]
  },
  {
   "cell_type": "code",
   "execution_count": 11,
   "metadata": {
    "collapsed": false
   },
   "outputs": [
    {
     "name": "stdout",
     "output_type": "stream",
     "text": [
      "5777\n"
     ]
    }
   ],
   "source": [
    "compno = 9\n",
    "while(compno < number):\n",
    "    if(is_cgnum(compno) == False):\n",
    "        print(compno)\n",
    "        break\n",
    "    compno += 2\n",
    "    while(compno in primeslist):\n",
    "        compno += 2"
   ]
  },
  {
   "cell_type": "code",
   "execution_count": 12,
   "metadata": {
    "collapsed": false
   },
   "outputs": [
    {
     "data": {
      "text/plain": [
       "False"
      ]
     },
     "execution_count": 12,
     "metadata": {},
     "output_type": "execute_result"
    }
   ],
   "source": [
    "is_cgnum(5777)"
   ]
  }
 ],
 "metadata": {
  "kernelspec": {
   "display_name": "Python 3",
   "language": "python",
   "name": "python3"
  },
  "language_info": {
   "codemirror_mode": {
    "name": "ipython",
    "version": 3
   },
   "file_extension": ".py",
   "mimetype": "text/x-python",
   "name": "python",
   "nbconvert_exporter": "python",
   "pygments_lexer": "ipython3",
   "version": "3.6.0"
  }
 },
 "nbformat": 4,
 "nbformat_minor": 2
}

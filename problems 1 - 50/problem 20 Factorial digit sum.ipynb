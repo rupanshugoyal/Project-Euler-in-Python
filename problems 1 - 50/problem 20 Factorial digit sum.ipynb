{
 "cells": [
  {
   "cell_type": "code",
   "execution_count": null,
   "metadata": {
    "collapsed": true
   },
   "outputs": [],
   "source": [
    "#problem 20: n! means n × (n − 1) × ... × 3 × 2 × 1\n",
    "\n",
    "#For example, 10! = 10 × 9 × ... × 3 × 2 × 1 = 3628800,\n",
    "#and the sum of the digits in the number 10! is 3 + 6 + 2 + 8 + 8 + 0 + 0 = 27.\n",
    "\n",
    "#Find the sum of the digits in the number 100!"
   ]
  },
  {
   "cell_type": "code",
   "execution_count": 1,
   "metadata": {
    "collapsed": false
   },
   "outputs": [
    {
     "name": "stdout",
     "output_type": "stream",
     "text": [
      "648\n"
     ]
    }
   ],
   "source": [
    "factof = 100\n",
    "\n",
    "def fact(num):\n",
    "    if(num == 1):\n",
    "        return 1\n",
    "    return num*fact(num - 1)\n",
    "\n",
    "ans = fact(factof)\n",
    "digits = list(str(ans))\n",
    "result = 0\n",
    "\n",
    "for i in digits:\n",
    "    result += int(i)\n",
    "    \n",
    "print(result)"
   ]
  }
 ],
 "metadata": {
  "kernelspec": {
   "display_name": "Python 3",
   "language": "python",
   "name": "python3"
  },
  "language_info": {
   "codemirror_mode": {
    "name": "ipython",
    "version": 3
   },
   "file_extension": ".py",
   "mimetype": "text/x-python",
   "name": "python",
   "nbconvert_exporter": "python",
   "pygments_lexer": "ipython3",
   "version": "3.6.0"
  }
 },
 "nbformat": 4,
 "nbformat_minor": 2
}

{
 "cells": [
  {
   "cell_type": "code",
   "execution_count": null,
   "metadata": {
    "collapsed": true
   },
   "outputs": [],
   "source": [
    "#problem 31 In England the currency is made up of pound, £, and pence, p, and there are eight coins in general circulation:\n",
    "\n",
    "#    1p, 2p, 5p, 10p, 20p, 50p, £1 (100p) and £2 (200p).\n",
    "#It is possible to make £2 in the following way:\n",
    "\n",
    "#    1×£1 + 1×50p + 2×20p + 1×5p + 1×2p + 3×1p\n",
    "#How many different ways can £2 be made using any number of coins?"
   ]
  },
  {
   "cell_type": "code",
   "execution_count": 21,
   "metadata": {
    "collapsed": false
   },
   "outputs": [
    {
     "name": "stdout",
     "output_type": "stream",
     "text": [
      "73682\n"
     ]
    }
   ],
   "source": [
    "count = 0\n",
    "for pound2 in range(0, 2):\n",
    "    value = 0\n",
    "    value += 200*pound2\n",
    "    if(value > 200):\n",
    "        break\n",
    "    for pound1 in range(0, 3):\n",
    "        value = 100*pound1 + 200*pound2\n",
    "        if(value > 200):\n",
    "            break\n",
    "        for pence50 in range(0, 5):\n",
    "            value =  50*pence50 + 100*pound1 + 200*pound2 \n",
    "            if(value > 200):\n",
    "                break\n",
    "            for pence20 in range(0, 11):\n",
    "                value = 20*pence20 + 50*pence50 + 100*pound1 + 200*pound2 \n",
    "                if(value > 200):\n",
    "                    break\n",
    "                for pence10 in range(0, 21):\n",
    "                    value = 10*pence10 + 20*pence20 + 50*pence50 + 100*pound1 + 200*pound2 \n",
    "                    if(value > 200):\n",
    "                        break\n",
    "                    for pence5 in range(0, 41):\n",
    "                        value = 5*pence5 + 10*pence10 + 20*pence20 + 50*pence50 + 100*pound1 + 200*pound2 \n",
    "                        if(value > 200):\n",
    "                            break\n",
    "                        for pence2 in range(0, 101):\n",
    "                            value = 2*pence2 + 5*pence5 + 10*pence10 + 20*pence20 + 50*pence50 + 100*pound1 + 200*pound2 \n",
    "                            if(value > 200):\n",
    "                                break\n",
    "                            for pence1 in range(0, 201):\n",
    "                                value = pence1 + 2*pence2 + 5*pence5 + 10*pence10 + 20*pence20 + 50*pence50 + 100*pound1 + 200*pound2 \n",
    "                                if(value == 200):\n",
    "                                    count += 1\n",
    "print(count)"
   ]
  }
 ],
 "metadata": {
  "kernelspec": {
   "display_name": "Python 3",
   "language": "python",
   "name": "python3"
  },
  "language_info": {
   "codemirror_mode": {
    "name": "ipython",
    "version": 3
   },
   "file_extension": ".py",
   "mimetype": "text/x-python",
   "name": "python",
   "nbconvert_exporter": "python",
   "pygments_lexer": "ipython3",
   "version": "3.6.0"
  }
 },
 "nbformat": 4,
 "nbformat_minor": 2
}

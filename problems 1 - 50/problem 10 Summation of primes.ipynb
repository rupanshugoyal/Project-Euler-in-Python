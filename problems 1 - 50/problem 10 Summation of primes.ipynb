{
 "cells": [
  {
   "cell_type": "code",
   "execution_count": null,
   "metadata": {
    "collapsed": true
   },
   "outputs": [],
   "source": [
    "# problem 10: The sum of the primes below 10 is 2 + 3 + 5 + 7 = 17.\n",
    "\n",
    "#Find the sum of all the primes below two million."
   ]
  },
  {
   "cell_type": "code",
   "execution_count": 1,
   "metadata": {
    "collapsed": false
   },
   "outputs": [
    {
     "name": "stdout",
     "output_type": "stream",
     "text": [
      "142913828922\n"
     ]
    }
   ],
   "source": [
    "number = 2000000\n",
    "primes = {}\n",
    "primes[1] = 1\n",
    "primes[2] = 1 # prime[i] = 1 => prime else => not prime\n",
    "for i in range (2, number):\n",
    "    primes[i] = 1\n",
    "\n",
    "for i in range(2, number):\n",
    "    if(primes[i] == 1):\n",
    "        j = 2\n",
    "        while(1):\n",
    "            if(i*j > number):\n",
    "                break\n",
    "            primes[i*j] = 0\n",
    "            j = j + 1\n",
    "    i = i + 1\n",
    "\n",
    "sum = 0\n",
    "for i in range(2, number):\n",
    "    if(primes[i] == 1):\n",
    "        sum += i\n",
    "\n",
    "print(sum)"
   ]
  },
  {
   "cell_type": "code",
   "execution_count": null,
   "metadata": {
    "collapsed": true
   },
   "outputs": [],
   "source": []
  }
 ],
 "metadata": {
  "kernelspec": {
   "display_name": "Python 3",
   "language": "python",
   "name": "python3"
  },
  "language_info": {
   "codemirror_mode": {
    "name": "ipython",
    "version": 3
   },
   "file_extension": ".py",
   "mimetype": "text/x-python",
   "name": "python",
   "nbconvert_exporter": "python",
   "pygments_lexer": "ipython3",
   "version": "3.6.0"
  }
 },
 "nbformat": 4,
 "nbformat_minor": 2
}

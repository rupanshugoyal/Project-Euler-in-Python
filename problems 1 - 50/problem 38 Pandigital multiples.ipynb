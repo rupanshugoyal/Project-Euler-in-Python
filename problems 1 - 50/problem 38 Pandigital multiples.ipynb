{
 "cells": [
  {
   "cell_type": "code",
   "execution_count": null,
   "metadata": {
    "collapsed": true
   },
   "outputs": [],
   "source": [
    "#problem 38 Take the number 192 and multiply it by each of 1, 2, and 3:\n",
    "\n",
    "#192 × 1 = 192\n",
    "#192 × 2 = 384\n",
    "#192 × 3 = 576\n",
    "#By concatenating each product we get the 1 to 9 pandigital, \n",
    "#192384576. We will call 192384576 the concatenated product of 192 and (1,2,3)\n",
    "\n",
    "#The same can be achieved by starting with 9 and multiplying by 1, 2, 3, 4, and 5, giving the pandigital, \n",
    "#918273645, which is the concatenated product of 9 and (1,2,3,4,5).\n",
    "\n",
    "#What is the largest 1 to 9 pandigital 9-digit number that can be formed as the concatenated product \n",
    "#of an integer with (1,2, ... , n) where n > 1?"
   ]
  },
  {
   "cell_type": "code",
   "execution_count": 23,
   "metadata": {
    "collapsed": false
   },
   "outputs": [],
   "source": [
    "def intersection(list1 , list2):\n",
    "    ilist = list1[:]\n",
    "    for element in list2:\n",
    "        try:\n",
    "            ilist.remove(element)\n",
    "        except:\n",
    "            continue\n",
    "    return ilist\n"
   ]
  },
  {
   "cell_type": "code",
   "execution_count": 2,
   "metadata": {
    "collapsed": true
   },
   "outputs": [],
   "source": [
    "def getdigit(num):\n",
    "    X = list(str(num))\n",
    "    X = list(map(int , X))\n",
    "    return X\n",
    "pan = {1,2,3,4,5,6,7,8,9}"
   ]
  },
  {
   "cell_type": "code",
   "execution_count": 27,
   "metadata": {
    "collapsed": true
   },
   "outputs": [],
   "source": [
    "def checkthisnum(num):\n",
    "    numlist = []\n",
    "    numlist += getdigit(num)\n",
    "    numlist += getdigit(num*2)\n",
    "    c = 3\n",
    "    answer = \"\"\n",
    "    if(len(numlist) <= 9):\n",
    "        while(True):\n",
    "            if(len(numlist) == 9): # pandigital check\n",
    "                if(len(intersection(numlist , pan)) == 0):\n",
    "                    answer = \"\".join([str(x) for x in numlist])\n",
    "                    break\n",
    "                else:\n",
    "                    break\n",
    "            elif(len(numlist) <= 9): # add more nos\n",
    "                value = num*c\n",
    "                c+=1\n",
    "                numlist += getdigit(value)\n",
    "            else: # the list is not pandigital, elements are repeating\n",
    "                break\n",
    "    return answer"
   ]
  },
  {
   "cell_type": "code",
   "execution_count": 29,
   "metadata": {
    "collapsed": false
   },
   "outputs": [
    {
     "name": "stdout",
     "output_type": "stream",
     "text": [
      "932718654\n"
     ]
    }
   ],
   "source": [
    "maxno = 0\n",
    "for i in range(2,100000):\n",
    "    value = checkthisnum(i)\n",
    "    if(value != \"\"):\n",
    "        if(maxno < int(value)):\n",
    "            maxno = int(value)\n",
    "            \n",
    "print(maxno)"
   ]
  },
  {
   "cell_type": "code",
   "execution_count": null,
   "metadata": {
    "collapsed": true
   },
   "outputs": [],
   "source": []
  }
 ],
 "metadata": {
  "kernelspec": {
   "display_name": "Python 3",
   "language": "python",
   "name": "python3"
  },
  "language_info": {
   "codemirror_mode": {
    "name": "ipython",
    "version": 3
   },
   "file_extension": ".py",
   "mimetype": "text/x-python",
   "name": "python",
   "nbconvert_exporter": "python",
   "pygments_lexer": "ipython3",
   "version": "3.6.0"
  }
 },
 "nbformat": 4,
 "nbformat_minor": 2
}

{
 "cells": [
  {
   "cell_type": "code",
   "execution_count": null,
   "metadata": {
    "collapsed": true
   },
   "outputs": [],
   "source": [
    "#problem 35 The number, 197, is called a circular prime because all rotations of the digits: 197, 971, and 719, \n",
    "#are themselves prime.\n",
    "\n",
    "#There are thirteen such primes below 100: 2, 3, 5, 7, 11, 13, 17, 31, 37, 71, 73, 79, and 97.\n",
    "\n",
    "#How many circular primes are there below one million?"
   ]
  },
  {
   "cell_type": "code",
   "execution_count": 26,
   "metadata": {
    "collapsed": false
   },
   "outputs": [
    {
     "data": {
      "text/plain": [
       "55"
      ]
     },
     "execution_count": 26,
     "metadata": {},
     "output_type": "execute_result"
    }
   ],
   "source": [
    "number = 1000000\n",
    "primes = {}\n",
    "primes[1] = 1\n",
    "primes[2] = 1 # prime[i] = 1 => prime else => not prime\n",
    "for i in range (2, number):\n",
    "    primes[i] = 1\n",
    "\n",
    "for i in range(2, number):\n",
    "    if(primes[i] == 1):\n",
    "        j = 2\n",
    "        while(1):\n",
    "            if(i*j > number):\n",
    "                break\n",
    "            primes[i*j] = 0\n",
    "            j = j + 1\n",
    "    i = i + 1\n",
    "\n",
    "\n",
    "def rotations(num):\n",
    "    digits = list(map(int , list(str(num))))\n",
    "    itr = len(digits)\n",
    "    digits = digits + digits[:-1]\n",
    "    rlist = []\n",
    "    for i in range(0 , itr):\n",
    "        value = \"\"\n",
    "        for j in range(i , i+itr):\n",
    "            value = value + str(digits[j])\n",
    "        rlist.append(int(value))\n",
    "    return rlist\n",
    "\n",
    "cirlist = []\n",
    "for i in range(2, 1000000):\n",
    "    cir = True\n",
    "    for j in rotations(i):\n",
    "        if(primes[j] != 1):\n",
    "            cir = False\n",
    "    if(cir):\n",
    "        cirlist.append(i)\n",
    "len(cirlist)"
   ]
  }
 ],
 "metadata": {
  "kernelspec": {
   "display_name": "Python 3",
   "language": "python",
   "name": "python3"
  },
  "language_info": {
   "codemirror_mode": {
    "name": "ipython",
    "version": 3
   },
   "file_extension": ".py",
   "mimetype": "text/x-python",
   "name": "python",
   "nbconvert_exporter": "python",
   "pygments_lexer": "ipython3",
   "version": "3.6.0"
  }
 },
 "nbformat": 4,
 "nbformat_minor": 2
}

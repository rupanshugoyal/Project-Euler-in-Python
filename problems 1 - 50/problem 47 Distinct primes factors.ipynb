{
 "cells": [
  {
   "cell_type": "code",
   "execution_count": null,
   "metadata": {
    "collapsed": true
   },
   "outputs": [],
   "source": [
    "#problem 47 The first two consecutive numbers to have two distinct prime factors are:\n",
    "\n",
    "#        14 = 2 × 7\n",
    "#        15 = 3 × 5\n",
    "\n",
    "#The first three consecutive numbers to have three distinct prime factors are:\n",
    "\n",
    "#        644 = 2² × 7 × 23\n",
    "#        645 = 3 × 5 × 43\n",
    "#        646 = 2 × 17 × 19.\n",
    "\n",
    "#Find the first four consecutive integers to have four distinct prime factors each. What is the first of these numbers?"
   ]
  },
  {
   "cell_type": "code",
   "execution_count": 1,
   "metadata": {
    "collapsed": true
   },
   "outputs": [],
   "source": [
    "number = 1000000\n",
    "primes = {}\n",
    "primes[1] = 0\n",
    "primes[2] = 1 # prime[i] = 1 => prime else => not prime\n",
    "for i in range (2, number):\n",
    "    primes[i] = 1\n",
    "\n",
    "for i in range(2, number):\n",
    "    if(primes[i] == 1):\n",
    "        j = 2\n",
    "        while(1):\n",
    "            if(i*j > number):\n",
    "                break\n",
    "            primes[i*j] = 0\n",
    "            j = j + 1\n",
    "    i = i + 1\n",
    "primeslist = []\n",
    "for i in range(2, number):\n",
    "    if(primes[i] == 1):\n",
    "        primeslist.append(i)"
   ]
  },
  {
   "cell_type": "code",
   "execution_count": 4,
   "metadata": {
    "collapsed": true
   },
   "outputs": [],
   "source": [
    "def distinctprimefactors(num):\n",
    "    p = set()\n",
    "    while(num != 1):\n",
    "        for i in primeslist:\n",
    "            if(num%i == 0):\n",
    "                p.add(i)\n",
    "                num = num/i\n",
    "                break\n",
    "        if(i == len(primeslist)):\n",
    "            num = 1\n",
    "    return p\n"
   ]
  },
  {
   "cell_type": "code",
   "execution_count": 10,
   "metadata": {
    "collapsed": false
   },
   "outputs": [
    {
     "data": {
      "text/plain": [
       "{2, 7, 23}"
      ]
     },
     "execution_count": 10,
     "metadata": {},
     "output_type": "execute_result"
    }
   ],
   "source": [
    "distinctprimefactors(644)"
   ]
  },
  {
   "cell_type": "code",
   "execution_count": 14,
   "metadata": {
    "collapsed": false
   },
   "outputs": [
    {
     "name": "stdout",
     "output_type": "stream",
     "text": [
      "134043\n"
     ]
    }
   ],
   "source": [
    "flag = False\n",
    "counter = 10\n",
    "while(flag != True):\n",
    "    fnum1 = distinctprimefactors(counter)\n",
    "    if(len(fnum1) == 4):\n",
    "        fnum2 = distinctprimefactors(counter+1)\n",
    "        if(len(fnum2) == 4):\n",
    "            if(fnum1.intersection(fnum2) == set()):\n",
    "                fnum3 = distinctprimefactors(counter+2)\n",
    "                if(len(fnum3) == 4):\n",
    "                    if(fnum2.intersection(fnum3) == set()):\n",
    "                        fnum4 = distinctprimefactors(counter+3)\n",
    "                        if(len(fnum4) == 4):\n",
    "                            if(fnum3.intersection(fnum4) == set()):\n",
    "                                print(counter)\n",
    "                                flag = True\n",
    "                            else:\n",
    "                                counter+=3\n",
    "                        else:\n",
    "                            counter+=4\n",
    "                    else:\n",
    "                        counter+=2\n",
    "                else:\n",
    "                    counter+=3\n",
    "            else:\n",
    "                counter+=1\n",
    "        else:\n",
    "            counter+=2\n",
    "    else:\n",
    "        counter+=1"
   ]
  },
  {
   "cell_type": "code",
   "execution_count": 15,
   "metadata": {
    "collapsed": false
   },
   "outputs": [
    {
     "name": "stdout",
     "output_type": "stream",
     "text": [
      "{3, 491, 13, 7}\n",
      "{2, 31, 47, 23}\n",
      "{17, 83, 19, 5}\n",
      "{11, 2, 3, 677}\n"
     ]
    }
   ],
   "source": [
    "print(fnum1)\n",
    "print(fnum2)\n",
    "print(fnum3)\n",
    "print(fnum4)"
   ]
  },
  {
   "cell_type": "code",
   "execution_count": null,
   "metadata": {
    "collapsed": true
   },
   "outputs": [],
   "source": []
  }
 ],
 "metadata": {
  "kernelspec": {
   "display_name": "Python 3",
   "language": "python",
   "name": "python3"
  },
  "language_info": {
   "codemirror_mode": {
    "name": "ipython",
    "version": 3
   },
   "file_extension": ".py",
   "mimetype": "text/x-python",
   "name": "python",
   "nbconvert_exporter": "python",
   "pygments_lexer": "ipython3",
   "version": "3.6.0"
  }
 },
 "nbformat": 4,
 "nbformat_minor": 2
}

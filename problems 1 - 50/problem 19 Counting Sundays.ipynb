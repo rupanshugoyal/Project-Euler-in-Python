{
 "cells": [
  {
   "cell_type": "code",
   "execution_count": null,
   "metadata": {
    "collapsed": true
   },
   "outputs": [],
   "source": [
    "#problem 19: You are given the following information, but you may prefer to do some research for yourself.\n",
    "\n",
    "#- 1 Jan 1900 was a Monday.\n",
    "#- Thirty days has September,\n",
    "#- April, June and November.\n",
    "#- All the rest have thirty-one,\n",
    "#- Saving February alone,\n",
    "#- Which has twenty-eight, rain or shine.\n",
    "#- And on leap years, twenty-nine.\n",
    "#- A leap year occurs on any year evenly divisible by 4, but not on a century unless it is divisible by 400.\n",
    "#- How many Sundays fell on the first of the month during the twentieth century (1 Jan 1901 to 31 Dec 2000)?"
   ]
  },
  {
   "cell_type": "code",
   "execution_count": 1,
   "metadata": {
    "collapsed": false
   },
   "outputs": [
    {
     "name": "stdout",
     "output_type": "stream",
     "text": [
      "171\n"
     ]
    }
   ],
   "source": [
    "startdate = (1,1,1901) #mm/dd/yyyy\n",
    "enddate = (31, 12, 2000) ##mm/dd/yyyy\n",
    "\n",
    "#1,1,1900 == Monday\n",
    "\n",
    "#1,1, 1901 == tuesday\n",
    "\n",
    "reqdcount = 0\n",
    "contd = 1\n",
    "for year in range(startdate[2] , enddate[2]+1):\n",
    "    for month in range(1, 13):\n",
    "        #calculate days\n",
    "        days = 31\n",
    "        \n",
    "        if(month == 4 or month == 6 or month == 9 or month == 11):\n",
    "            days = 30\n",
    "        \n",
    "        elif(month == 2): #feb month\n",
    "            \n",
    "            days = 28\n",
    "            if(year%4 == 0): #leap\n",
    "                \n",
    "                days = 29\n",
    "                if(year%100 == 0 and year%400 != 0):\n",
    "                    days = 28\n",
    "                elif(year%400 == 0):\n",
    "                    days = 29\n",
    "        \n",
    "        contd = contd + days - 28\n",
    "        contd = contd%7\n",
    "        if(contd == 6):\n",
    "            reqdcount += 1\n",
    "\n",
    "print(reqdcount)"
   ]
  }
 ],
 "metadata": {
  "kernelspec": {
   "display_name": "Python 3",
   "language": "python",
   "name": "python3"
  },
  "language_info": {
   "codemirror_mode": {
    "name": "ipython",
    "version": 3
   },
   "file_extension": ".py",
   "mimetype": "text/x-python",
   "name": "python",
   "nbconvert_exporter": "python",
   "pygments_lexer": "ipython3",
   "version": "3.6.0"
  }
 },
 "nbformat": 4,
 "nbformat_minor": 2
}

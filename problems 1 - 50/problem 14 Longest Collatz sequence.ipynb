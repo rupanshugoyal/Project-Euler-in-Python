{
 "cells": [
  {
   "cell_type": "code",
   "execution_count": null,
   "metadata": {
    "collapsed": true
   },
   "outputs": [],
   "source": [
    "#problem 14 The following iterative sequence is defined for the set of positive integers:\n",
    "\n",
    "#  n → n/2 (n is even)\n",
    "#  n → 3n + 1 (n is odd)\n",
    "\n",
    "#Using the rule above and starting with 13, we generate the following sequence:\n",
    "\n",
    "#  13 → 40 → 20 → 10 → 5 → 16 → 8 → 4 → 2 → 1\n",
    "#It can be seen that this sequence (starting at 13 and finishing at 1) contains 10 terms. \n",
    "#Although it has not been proved yet (Collatz Problem), it is thought that all starting numbers finish at 1.\n",
    "\n",
    "#Which starting number, under one million, produces the longest chain?\n",
    "\n",
    "#NOTE: Once the chain starts the terms are allowed to go above one million."
   ]
  },
  {
   "cell_type": "code",
   "execution_count": 6,
   "metadata": {
    "collapsed": false
   },
   "outputs": [
    {
     "name": "stdout",
     "output_type": "stream",
     "text": [
      "837799\n"
     ]
    }
   ],
   "source": [
    "maxcno = 0\n",
    "cno = 0\n",
    "chaincount = 0\n",
    "def chain(num , count):\n",
    "    if(num<=1):\n",
    "        return count\n",
    "    if(num%2 == 0):\n",
    "        num = num / 2\n",
    "    else:\n",
    "        num = 3*num + 1\n",
    "    count += 1\n",
    "    return chain(num, count)\n",
    "\n",
    "for start in range(1, 1000000):\n",
    "    value = chain(start, chaincount)\n",
    "    if(value > maxcno):\n",
    "        maxcno = value\n",
    "        cno = start\n",
    "\n",
    "print(cno)"
   ]
  },
  {
   "cell_type": "code",
   "execution_count": null,
   "metadata": {
    "collapsed": true
   },
   "outputs": [],
   "source": []
  }
 ],
 "metadata": {
  "kernelspec": {
   "display_name": "Python 3",
   "language": "python",
   "name": "python3"
  },
  "language_info": {
   "codemirror_mode": {
    "name": "ipython",
    "version": 3
   },
   "file_extension": ".py",
   "mimetype": "text/x-python",
   "name": "python",
   "nbconvert_exporter": "python",
   "pygments_lexer": "ipython3",
   "version": "3.6.0"
  }
 },
 "nbformat": 4,
 "nbformat_minor": 2
}
